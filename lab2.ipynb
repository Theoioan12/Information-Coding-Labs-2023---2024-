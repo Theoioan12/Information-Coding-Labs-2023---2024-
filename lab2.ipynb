{
 "cells": [
  {
   "cell_type": "markdown",
   "metadata": {},
   "source": [
    "## Information Coding 2023-24\n",
    "\n",
    "## Lab assignment 2 (Lab session 3, 2-11-2022)\n",
    "\n",
    "## Number theory\n",
    "\n",
    " (Estimated working time: 2 hours lab + 2 hours home);\n",
    "\t\n",
    " Student names:\n",
    " Buliga Theodor Ioan\n",
    " Javier Cirugeda Bugallo\n",
    " \n",
    "\n",
    "**INSTRUCTIONS**\n",
    " \n",
    "- Practices are to be done in groups of two (or one). \n",
    "- This solved practice has to be uploaded in Moodle before September 30th, 23:55h. \n",
    "- The submission must be done by the first author (alphabetical order).\n",
    "- Name the file with authors' names.\n",
    "- This practice accounts for 5% of final grade for both autors. Grading items:\n",
    "    * Defined functions 50% (eficiency, clarity, code documentation)\n",
    "    * Exercise solving 40%\n",
    "    * Mathematical correction, clarity of results, language precission, 10%.\n",
    "- To get any credit, physical presence in the practice session is a must.\n",
    "\n",
    "\n",
    " "
   ]
  },
  {
   "cell_type": "markdown",
   "metadata": {},
   "source": [
    "### 1 (2 pt) Number theory in Python\n",
    "\n",
    "a) Read the help for the Sympy . The functions related to what we have studied\n",
    "are  ```sympy.numbers.igcd```, ```sympy.ntheory.factor_.factorint```, ```sympy.ntheory.factor_.divisors```, ```sympy.ntheory.factor_.proper_divisors```, ```sympy.numbers.mod_inverse```, ```pow(a,b,d)``` (not in sympy), ```sympy.ntheory.factor_.totient```, ```sympy.ntheory.residue_ntheory.discrete_log```, ```sympy.ntheory.residue_ntheory.is_primitive_root```, ```sympy.ntheory.residue_ntheory.primitive_root``` and ```sympy.ntheory.residue_ntheory.n_order```.\n",
    "\t\n",
    "**Explain in a short sentence what do each of this functions do.**\n",
    "\n",
    "Answer:\n"
   ]
  },
  {
   "cell_type": "code",
   "execution_count": null,
   "metadata": {},
   "outputs": [],
   "source": [
    "sympy.igcd = we can find the greatest common divisor of two nonnegative integer numbers\n",
    "sympy.ntheory.factor_.factorint = Given a positive integer n, factorint(n) returns a dict containing the prime factors of n as keys and their respective multiplicities as values.\n",
    "sympy.ntheory.factor_.divisors = Return all divisors of n sorted from 1..n by default. If generator is True an unordered generator is returned.\n",
    "sympy.ntheory.factor_.proper_divisors = Return all divisors of n except n, sorted by default. If generator is True an unordered generator is returned.\n",
    "sympy.numbers.mod_inverse = Return the number c such that a * c = 1 mod m, where c has the same sign as m. If no such value exists, a ValueError is raised.\n",
    "pow(a,b,d) = a = number, b = power, d = modulus\n",
    "sympy.ntheory.factor_.totient = Calculate the Euler totient function phi(n)\n",
    "sympy.ntheory.residue_ntheory.discrete_log = Compute the discrete logarithm of a to the base b modulo n.\n",
    "sympy.ntheory.residue_ntheory.is_primitive_root = Returns True if a is a primitive root of p.\n",
    "sympy.ntheory.residue_ntheory.primitive_root = Returns the smallest primitive root or None.\n",
    "sympy.ntheory.residue_ntheory.n_order = Returns the order of a modulo n. The order of a modulo n is the smallest integer k such that a**k leaves a remainder of 1 with n.\n"
   ]
  },
  {
   "cell_type": "markdown",
   "metadata": {},
   "source": [
    "b) Write a function ```Phi1``` that computes the Euler totient $\\varphi$ of n by iteratively checking the gcd of i and\n",
    "n, for i from 1 to n-1.\n",
    "\n",
    "Using the factor function, write a function ```Phi2``` that computes the Euler totient using the formula.\n",
    "Compare the result and efficiency of both by computing ```Phi1``` and ```Phi2``` of ```n1=153193```.\n",
    "\n",
    "Compare the result and the eficiency of ```Phi2``` and the function ```totient```, by computing the $\\varphi$ function of the number ```n2=1000000000027999999999571```\n",
    "\n",
    "*Remark: To measure execution time, you can use the python module ```timeit```*"
   ]
  },
  {
   "cell_type": "code",
   "execution_count": 3,
   "metadata": {},
   "outputs": [],
   "source": [
    "import sympy as sp\n",
    "import timeit\n",
    "\n",
    "def Phi1(n):\n",
    "    result = 0\n",
    "    for i in range(n):\n",
    "        if(i > 0):\n",
    "            if(sp.igcd(i, n) == 1):\n",
    "                result += 1\n",
    "    return result\n",
    "\n",
    "def Phi2(n):\n",
    "    factors = sp.factorint(n)\n",
    "    result = n\n",
    "    for p in factors:\n",
    "        result *= (p - 1)\n",
    "        result //= p\n",
    "    return result\n",
    "    "
   ]
  },
  {
   "cell_type": "code",
   "execution_count": 4,
   "metadata": {},
   "outputs": [
    {
     "name": "stdout",
     "output_type": "stream",
     "text": [
      "152388\n",
      "152388\n"
     ]
    }
   ],
   "source": [
    "print(Phi1(153193))\n",
    "print(Phi2(153193))"
   ]
  },
  {
   "cell_type": "code",
   "execution_count": 34,
   "metadata": {},
   "outputs": [],
   "source": [
    "n1 = 153193"
   ]
  },
  {
   "cell_type": "code",
   "execution_count": 36,
   "metadata": {},
   "outputs": [
    {
     "name": "stdout",
     "output_type": "stream",
     "text": [
      "31.299526099996\n",
      "0.002730100000917446\n",
      "0.0006065000052331015\n"
     ]
    }
   ],
   "source": [
    "print(timeit.timeit('Phi1(153193)', 'from __main__ import Phi1', number = 100))\n",
    "print(timeit.timeit('Phi2(153193)', 'from __main__ import Phi2', number = 100))\n",
    "print(timeit.timeit('totient(153193)', 'from sympy import totient', number = 100))"
   ]
  },
  {
   "cell_type": "code",
   "execution_count": 37,
   "metadata": {},
   "outputs": [
    {
     "name": "stdout",
     "output_type": "stream",
     "text": [
      "0.09400109999842243\n",
      "0.0013408000013441779\n"
     ]
    }
   ],
   "source": [
    "print(timeit.timeit('Phi2(1000000000027999999999571)', 'from __main__ import Phi2', number = 100))\n",
    "print(timeit.timeit('totient(1000000000027999999999571)', 'from sympy import totient', number = 100))"
   ]
  },
  {
   "cell_type": "markdown",
   "metadata": {},
   "source": [
    "### 2 (3 pt) Fast modular exponentiation\n",
    "####  2.1 FME\n",
    "Compute a function ```FME``` implementing fast modular exponentiation.\n",
    "\n",
    "Input:  an integer a (the base), an integer b (the exponent), a positive integer m (the modulus)\n",
    "\n",
    "Output: $a^b(\\mod n)$\n",
    "\t\n",
    "*Remark:* If $b<0$, ```FME``` must compute (a^{-1} (\\mod n))^{b} (\\mod n)$\n",
    "\t\n",
    "Check, for some examples, that $a^{Phi2(n)} (\\mod n)=1$ if $gcd(a,n)=1$ (Euler Theorem).\n",
    "\n",
    "Compute $1234^{1234} (\\mod 5367)$ and $1234^{12345678} (\\mod 5367)$\n",
    "using three different methods: ```FME(a,b,n)```, ```pow(a,b,n)``` and ```a**b % n```.\n",
    "\n",
    "Check the results, note down the execution times, and comment.\n",
    "\t"
   ]
  },
  {
   "cell_type": "code",
   "execution_count": 7,
   "metadata": {},
   "outputs": [],
   "source": [
    "def FME(a, b, m):\n",
    "    res = 1\n",
    "    if(b < 0):\n",
    "        return FME(pow(a, -1, m), -b, m) # a ** -1 % m\n",
    "    while b > 0:\n",
    "        b //= 2\n",
    "        a = (a ** 2) % m\n",
    "\n",
    "        if b % 2:\n",
    "            res = (res * a) % m \n",
    "            pass\n",
    "    \n",
    "    return res"
   ]
  },
  {
   "cell_type": "code",
   "execution_count": 8,
   "metadata": {},
   "outputs": [
    {
     "name": "stdout",
     "output_type": "stream",
     "text": [
      "1\n",
      "1\n",
      "1\n",
      "347\n",
      "601\n"
     ]
    }
   ],
   "source": [
    "print(FME(17, Phi2(1234), 1234))\n",
    "print(FME(313, Phi2(6748), 6748))\n",
    "print(FME(7, Phi2(9483), 9483))\n",
    "print(FME(7, -422, 1234))\n",
    "print(FME(7, 422, 1234))"
   ]
  },
  {
   "cell_type": "code",
   "execution_count": 48,
   "metadata": {},
   "outputs": [
    {
     "name": "stdout",
     "output_type": "stream",
     "text": [
      "3871\n",
      "4849\n",
      "3871\n",
      "4849\n",
      "3871\n"
     ]
    }
   ],
   "source": [
    "print(FME(1234, 1234, 5367))\n",
    "print(FME(1234, 12345678, 5367))\n",
    "\n",
    "print(pow(1234, 1234, 5367))\n",
    "print(pow(1234, 12345678, 5367))\n",
    "\n",
    "print(1234**1234 % 5367)\n",
    "#print(1234**12345678 % 5367)"
   ]
  },
  {
   "cell_type": "code",
   "execution_count": 9,
   "metadata": {},
   "outputs": [
    {
     "name": "stdout",
     "output_type": "stream",
     "text": [
      "0.0004698000011558179\n",
      "0.00010969999857479706\n",
      "0.004295900002034614\n"
     ]
    }
   ],
   "source": [
    "print(timeit.timeit('FME(1234, 1234, 5367)', 'from __main__ import FME', number = 100))\n",
    "print(timeit.timeit('pow(1234, 1234, 5367)', number = 100))\n",
    "print(timeit.timeit('1234**1234 % 5367', number = 100))"
   ]
  },
  {
   "cell_type": "markdown",
   "metadata": {},
   "source": [
    "### 3 (5 pt) Generator, Primitives, DiscreteLog\n",
    "Write a function ```Generator```\n",
    "\n",
    "Input:  an integer $a$ (candidate to be a primitive root) and a positive integer $n$ (modulus)\n",
    "\n",
    "Output: a boolean: Is $a$ a generator on $Z_n^*$?\n",
    "        \n",
    "*Hints:* First, we must check if a and n are relatively prime. If not, return false (and give an explanation message).\n",
    "\t    Then you may, for instance, check that order($a$)=$\\phi(n)$, by computing the powers of $a$...\n",
    "\t            (metahint: Only the powers $a^k$ such that $k$ divides $\\phi(n)$ must be checked)"
   ]
  },
  {
   "cell_type": "code",
   "execution_count": 21,
   "metadata": {},
   "outputs": [],
   "source": [
    "def Generator(a, n):\n",
    "    if(sp.igcd(a, n) != 1):\n",
    "        #print(\"a & n not relatively prime\")\n",
    "        return False\n",
    "    else:\n",
    "        # Calculate Euler's totient function\n",
    "        phi_n = Phi2(n)\n",
    "\n",
    "        # Check powers of a\n",
    "        for k in range(1, phi_n):\n",
    "            # Check only the powers where k divides phi_n\n",
    "            if phi_n % k == 0:\n",
    "                # Calculate a^k modulo n\n",
    "                power = pow(a, k, n)\n",
    "\n",
    "                # If a^k is congruent to 1 modulo n, then a is not a generator\n",
    "                if power == 1:\n",
    "                    #print(f\"{a} is not a generator modulo {n} because a^{k} is congruent to 1 modulo {n}.\")\n",
    "                    return False\n",
    "\n",
    "        # If all checks pass, a is a generator modulo n\n",
    "        #print(f\"{a} is a generator modulo {n}.\")\n",
    "        return True"
   ]
  },
  {
   "cell_type": "code",
   "execution_count": 30,
   "metadata": {},
   "outputs": [
    {
     "name": "stdout",
     "output_type": "stream",
     "text": [
      "True\n",
      "False\n",
      "False\n"
     ]
    }
   ],
   "source": [
    "print(Generator(3, 7))\n",
    "print(Generator(4, 7))\n",
    "print(Generator(7, 131))"
   ]
  },
  {
   "cell_type": "markdown",
   "metadata": {},
   "source": [
    "Write a function ```Primitives```\n",
    "\n",
    "Input: an integer n (modulus)\n",
    "\n",
    "Output: A set with all generators mod n\n",
    "\n",
    "*Remark:* If n does not admit primitive roots, output must be the empty set.\n",
    "\t        There are several alternatives for implementation."
   ]
  },
  {
   "cell_type": "code",
   "execution_count": 23,
   "metadata": {},
   "outputs": [],
   "source": [
    "def Primitives(n):\n",
    "    generators = []\n",
    "\n",
    "    for a in range(1, n):\n",
    "        if Generator(a, n):\n",
    "            generators.append(a)\n",
    "\n",
    "    return generators"
   ]
  },
  {
   "cell_type": "code",
   "execution_count": 27,
   "metadata": {},
   "outputs": [
    {
     "name": "stdout",
     "output_type": "stream",
     "text": [
      "[3, 7]\n",
      "[]\n",
      "[]\n",
      "[2, 3, 8, 12, 13, 17, 22, 23, 27, 28, 33, 37, 38, 42, 47, 48, 52, 53, 58, 62, 63, 67, 72, 73, 77, 78, 83, 87, 88, 92, 97, 98, 102, 103, 108, 112, 113, 117, 122, 123]\n"
     ]
    }
   ],
   "source": [
    "print(Primitives(10))\n",
    "print(Primitives(123))\n",
    "print(Primitives(124))\n",
    "print(Primitives(125))"
   ]
  },
  {
   "cell_type": "markdown",
   "metadata": {},
   "source": [
    "Define a function ```DiscreteLog```\n",
    "\n",
    "Input: integers x,b,n\n",
    "\n",
    "Output: the integer $e=log_b(x) (\\mod n)$, that is, $b^e (\\mod n)=x$. ($e$ is the discrete logarithm of $x$ in base $b$, mod $n$)\n",
    "\n",
    "*Remark:* The procedure must check if $b$ is a primitive root mod $n$. The procedure must look for $e$, exploring every element of $\\mathbf{Z}_n^*$"
   ]
  },
  {
   "cell_type": "code",
   "execution_count": 33,
   "metadata": {},
   "outputs": [],
   "source": [
    "def DiscreteLog(x, b, n):\n",
    "    if not Generator(b, n):\n",
    "        print(f\"{b} is not a primitive root modulo {n}.\")\n",
    "        return None\n",
    "\n",
    "    for e in range(1, n):\n",
    "        if pow(b, e, n) == x:\n",
    "            return e\n",
    "\n",
    "    print(f\"No discrete logarithm found for {x} in base {b} modulo {n}.\")\n",
    "    return None"
   ]
  },
  {
   "cell_type": "code",
   "execution_count": 39,
   "metadata": {},
   "outputs": [
    {
     "name": "stdout",
     "output_type": "stream",
     "text": [
      "4\n",
      "4\n",
      "4 is not a primitive root modulo 15.\n",
      "None\n"
     ]
    },
    {
     "ename": "ValueError",
     "evalue": "Log does not exist",
     "output_type": "error",
     "traceback": [
      "\u001b[1;31m---------------------------------------------------------------------------\u001b[0m",
      "\u001b[1;31mValueError\u001b[0m                                Traceback (most recent call last)",
      "Cell \u001b[1;32mIn[39], line 5\u001b[0m\n\u001b[0;32m      2\u001b[0m \u001b[38;5;28mprint\u001b[39m(sp\u001b[38;5;241m.\u001b[39mdiscrete_log(\u001b[38;5;241m11\u001b[39m, \u001b[38;5;241m5\u001b[39m, \u001b[38;5;241m2\u001b[39m))\n\u001b[0;32m      4\u001b[0m \u001b[38;5;28mprint\u001b[39m(DiscreteLog(\u001b[38;5;241m7\u001b[39m, \u001b[38;5;241m4\u001b[39m, \u001b[38;5;241m15\u001b[39m))\n\u001b[1;32m----> 5\u001b[0m \u001b[38;5;28mprint\u001b[39m(\u001b[43msp\u001b[49m\u001b[38;5;241;43m.\u001b[39;49m\u001b[43mdiscrete_log\u001b[49m\u001b[43m(\u001b[49m\u001b[38;5;241;43m15\u001b[39;49m\u001b[43m,\u001b[49m\u001b[43m \u001b[49m\u001b[38;5;241;43m7\u001b[39;49m\u001b[43m,\u001b[49m\u001b[43m \u001b[49m\u001b[38;5;241;43m4\u001b[39;49m\u001b[43m)\u001b[49m)\n",
      "File \u001b[1;32mC:\\tools\\Anaconda3\\lib\\site-packages\\sympy\\ntheory\\residue_ntheory.py:1352\u001b[0m, in \u001b[0;36mdiscrete_log\u001b[1;34m(n, a, b, order, prime_order)\u001b[0m\n\u001b[0;32m   1349\u001b[0m     prime_order \u001b[38;5;241m=\u001b[39m isprime(order)\n\u001b[0;32m   1351\u001b[0m \u001b[38;5;28;01mif\u001b[39;00m order \u001b[38;5;241m<\u001b[39m \u001b[38;5;241m1000\u001b[39m:\n\u001b[1;32m-> 1352\u001b[0m     \u001b[38;5;28;01mreturn\u001b[39;00m \u001b[43m_discrete_log_trial_mul\u001b[49m\u001b[43m(\u001b[49m\u001b[43mn\u001b[49m\u001b[43m,\u001b[49m\u001b[43m \u001b[49m\u001b[43ma\u001b[49m\u001b[43m,\u001b[49m\u001b[43m \u001b[49m\u001b[43mb\u001b[49m\u001b[43m,\u001b[49m\u001b[43m \u001b[49m\u001b[43morder\u001b[49m\u001b[43m)\u001b[49m\n\u001b[0;32m   1353\u001b[0m \u001b[38;5;28;01melif\u001b[39;00m prime_order:\n\u001b[0;32m   1354\u001b[0m     \u001b[38;5;28;01mif\u001b[39;00m order \u001b[38;5;241m<\u001b[39m \u001b[38;5;241m1000000000000\u001b[39m:\n",
      "File \u001b[1;32mC:\\tools\\Anaconda3\\lib\\site-packages\\sympy\\ntheory\\residue_ntheory.py:1114\u001b[0m, in \u001b[0;36m_discrete_log_trial_mul\u001b[1;34m(n, a, b, order)\u001b[0m\n\u001b[0;32m   1112\u001b[0m         \u001b[38;5;28;01mreturn\u001b[39;00m i\n\u001b[0;32m   1113\u001b[0m     x \u001b[38;5;241m=\u001b[39m x \u001b[38;5;241m*\u001b[39m b \u001b[38;5;241m%\u001b[39m n\n\u001b[1;32m-> 1114\u001b[0m \u001b[38;5;28;01mraise\u001b[39;00m \u001b[38;5;167;01mValueError\u001b[39;00m(\u001b[38;5;124m\"\u001b[39m\u001b[38;5;124mLog does not exist\u001b[39m\u001b[38;5;124m\"\u001b[39m)\n",
      "\u001b[1;31mValueError\u001b[0m: Log does not exist"
     ]
    }
   ],
   "source": [
    "print(DiscreteLog(5, 2, 11))\n",
    "print(sp.discrete_log(11, 5, 2))\n",
    "\n",
    "print(DiscreteLog(7, 4, 15))\n",
    "print(sp.discrete_log(15, 7, 4))"
   ]
  },
  {
   "cell_type": "markdown",
   "metadata": {},
   "source": [
    "Try the functions with some examples. "
   ]
  },
  {
   "cell_type": "markdown",
   "metadata": {},
   "source": [
    "Find every primitive root mod 17. Compute the tables of discrete logarithms mod 17, ```DiscreteLog(a,b,17)```, for every primitive root $b$ and every $a$ such that $1\\le a<17$ and $a$ is prime with 17."
   ]
  },
  {
   "cell_type": "markdown",
   "metadata": {},
   "source": [
    "Check that 1780963 is a primitive root mod 4378981. Compute ```DiscreteLog(17,1780963,4378981)```.\n",
    "Compare the execution time of your functions with the native functions ```sympy.ntheory.residue_ntheory.is_primitive_root```, ```sympy.ntheory.residue_ntheory.discrete_log```."
   ]
  },
  {
   "cell_type": "code",
   "execution_count": 47,
   "metadata": {},
   "outputs": [
    {
     "name": "stdout",
     "output_type": "stream",
     "text": [
      "[3, 5, 6, 7, 10, 11, 12, 14]\n",
      "14\n",
      "1\n",
      "12\n",
      "5\n",
      "15\n",
      "11\n",
      "10\n",
      "2\n",
      "3\n",
      "7\n",
      "13\n",
      "4\n",
      "9\n",
      "6\n",
      "8\n",
      "-------------\n",
      "6\n",
      "13\n",
      "12\n",
      "1\n",
      "3\n",
      "15\n",
      "2\n",
      "10\n",
      "7\n",
      "11\n",
      "9\n",
      "4\n",
      "5\n",
      "14\n",
      "8\n",
      "-------------\n",
      "2\n",
      "15\n",
      "4\n",
      "11\n",
      "1\n",
      "5\n",
      "6\n",
      "14\n",
      "13\n",
      "9\n",
      "3\n",
      "12\n",
      "7\n",
      "10\n",
      "8\n",
      "-------------\n",
      "10\n",
      "3\n",
      "4\n",
      "15\n",
      "13\n",
      "1\n",
      "14\n",
      "6\n",
      "9\n",
      "5\n",
      "7\n",
      "12\n",
      "11\n",
      "2\n",
      "8\n",
      "-------------\n",
      "10\n",
      "11\n",
      "4\n",
      "7\n",
      "5\n",
      "9\n",
      "14\n",
      "6\n",
      "1\n",
      "13\n",
      "15\n",
      "12\n",
      "3\n",
      "2\n",
      "8\n",
      "-------------\n",
      "2\n",
      "7\n",
      "4\n",
      "3\n",
      "9\n",
      "13\n",
      "6\n",
      "14\n",
      "5\n",
      "1\n",
      "11\n",
      "12\n",
      "15\n",
      "10\n",
      "8\n",
      "-------------\n",
      "6\n",
      "5\n",
      "12\n",
      "9\n",
      "11\n",
      "7\n",
      "2\n",
      "10\n",
      "15\n",
      "3\n",
      "1\n",
      "4\n",
      "13\n",
      "14\n",
      "8\n",
      "-------------\n",
      "14\n",
      "9\n",
      "12\n",
      "13\n",
      "7\n",
      "3\n",
      "10\n",
      "2\n",
      "11\n",
      "15\n",
      "5\n",
      "4\n",
      "1\n",
      "6\n",
      "8\n",
      "-------------\n"
     ]
    }
   ],
   "source": [
    "n = 17\n",
    "\n",
    "prim = Primitives(n)\n",
    "print(prim)\n",
    "table = []\n",
    "for b in prim:\n",
    "    for a in range(n):\n",
    "        if a > 1 and sp.igcd(a, n) == 1:\n",
    "            log = DiscreteLog(a, b, n)\n",
    "            table.append(log)\n",
    "            print(log)\n",
    "    print(\"-------------\")\n",
    "            \n",
    "#print(table)"
   ]
  },
  {
   "cell_type": "code",
   "execution_count": null,
   "metadata": {},
   "outputs": [],
   "source": [
    "prim2 = Primitives(4378981)\n",
    "print(prim2)\n",
    "\n",
    "print(timeit.timeit('Primitives(4378981)', 'from __main__ import Primitives', number = 1))\n",
    "print(timeit.timeit('is_primitive_root(4378981)', 'from sympy import is_primitive_root' , number = 1))"
   ]
  },
  {
   "cell_type": "code",
   "execution_count": null,
   "metadata": {},
   "outputs": [],
   "source": [
    "DiscreteLog(17,1780963,4378981)\n",
    "\n",
    "print(timeit.timeit('DiscreteLog(17,1780963,4378981)', 'from __main__ import Primitives', number = 1))\n",
    "print(timeit.timeit('discrete_log(4378981,17,1780963)', 'from sympy import discrete_log' , number = 1))"
   ]
  },
  {
   "cell_type": "code",
   "execution_count": null,
   "metadata": {},
   "outputs": [],
   "source": []
  }
 ],
 "metadata": {
  "kernelspec": {
   "display_name": "Python 3 (ipykernel)",
   "language": "python",
   "name": "python3"
  },
  "language_info": {
   "codemirror_mode": {
    "name": "ipython",
    "version": 3
   },
   "file_extension": ".py",
   "mimetype": "text/x-python",
   "name": "python",
   "nbconvert_exporter": "python",
   "pygments_lexer": "ipython3",
   "version": "3.10.9"
  }
 },
 "nbformat": 4,
 "nbformat_minor": 4
}
