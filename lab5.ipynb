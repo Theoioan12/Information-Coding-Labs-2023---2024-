{
 "cells": [
  {
   "cell_type": "markdown",
   "metadata": {},
   "source": [
    "## Information Coding 2023-24\n",
    "\n",
    "## Lab assignment 5 (Lab session 6, 21-12-2023)\n",
    "\n",
    "## Public key cryptography\n",
    "\n",
    " (Estimated working time: 2 hours lab + 3 hours home);\n",
    "\t\n",
    " Student names:\n",
    " Theodor Ioan Buliga\n",
    " Javier Cirugeda Bugallo\n",
    " \n",
    "\n",
    " INSTRUCTIONS\n",
    "  Practices are to be done in groups of two (or one). \n",
    "  This solved practice has to be uploaded in Moodle before November 28th, 23:55h. \n",
    "  The submission must be done by the first author (alphabetical order).\n",
    "    Name the file with authors' names.\n",
    "  This practice accounts for 5% of final grade for both autors.\n",
    "  Grading items:\n",
    "    * Defined functions 50% (eficiency, clarity, code documentation)\n",
    "    * Exercise solving 40%\n",
    "    * Mathematical correction, clarity of results, language precission, 10%.\n",
    "  To get any credit, physical presence in the practice session is a must.\n",
    "\n",
    "\n",
    " "
   ]
  },
  {
   "cell_type": "markdown",
   "metadata": {},
   "source": [
    "### 1 (1 pt) Bit average and entropy\n",
    "\n",
    "#### 1.1 a)\n",
    "Define a function that calculates the bit average of a code.\n",
    "\t\n",
    "Input:\n",
    "- A list (A) of pairs, each formed by a symbol of an alphabet (Alf) and a probability or frequence\n",
    "- A valid code scheme C, with source alphabet Alf\n",
    "\t"
   ]
  },
  {
   "cell_type": "markdown",
   "metadata": {},
   "source": [
    "#### 1.2 b)\n",
    "Define a procedure that calculates the entropy of a source of information.\n",
    "\n",
    "Input:\n",
    "- A list (A) of pairs, each formed by a symbol of an alphabet and a probability or frequence\n"
   ]
  },
  {
   "cell_type": "markdown",
   "metadata": {},
   "source": [
    "####  1.3 \n",
    "Try the functions above with the following data, and comment the results"
   ]
  },
  {
   "cell_type": "code",
   "execution_count": 107,
   "metadata": {
    "ExecuteTime": {
     "end_time": "2023-12-21T08:43:42.276923391Z",
     "start_time": "2023-12-21T08:43:42.268444137Z"
    }
   },
   "outputs": [
    {
     "name": "stdout",
     "output_type": "stream",
     "text": [
      "Bit Average: 2.55\n",
      "Entropy: 2.27\n"
     ]
    }
   ],
   "source": [
    "from math import log2\n",
    "\n",
    "def bit_average(A: list, C: list) -> float:\n",
    "    \"\"\"\n",
    "    Calculate the bit average of a source A using a code C.\n",
    "\n",
    "    Parameters:\n",
    "    - A (list): List of tuples representing symbols and their probabilities.\n",
    "    - C (list): List of tuples representing symbols and their corresponding codes.\n",
    "\n",
    "    Returns:\n",
    "    - float: Bit average of source A using code C.\n",
    "    \"\"\"\n",
    "    # Check if A and C are lists\n",
    "    if type(A) != list or type(C) != list:\n",
    "        raise TypeError(\"A and C must be lists\")\n",
    "\n",
    "    total = 0\n",
    "\n",
    "    # Convert code C to a dictionary for faster lookup\n",
    "    C = dict(C)\n",
    "\n",
    "    # Calculate the bit average using the provided code\n",
    "    for symbol, prob in A:\n",
    "        # Check if the symbol is present in the code\n",
    "        if symbol not in C:\n",
    "            raise ValueError(\"Error: symbol not in C\")\n",
    "\n",
    "        # Add the product of probability and code length to the total\n",
    "        total += prob * len(C[symbol])\n",
    "\n",
    "    # Round the result to 2 decimal places\n",
    "    return round(total, 2)\n",
    "\n",
    "\n",
    "def entropy(A: list) -> float:\n",
    "    \"\"\"\n",
    "    Calculate the entropy of a source A.\n",
    "\n",
    "    Parameters:\n",
    "    - A (list): List of tuples representing symbols and their probabilities.\n",
    "\n",
    "    Returns:\n",
    "    - float: Entropy of source A.\n",
    "    \"\"\"\n",
    "    # Check if A is a list\n",
    "    if type(A) != list:\n",
    "        raise TypeError(\"Error: A is not a list\")\n",
    "\n",
    "    entropy = 0\n",
    "\n",
    "    # Calculate the entropy using the formula -p*log2(p)\n",
    "    for _, prob in A:\n",
    "        entropy += prob * log2(1/prob)\n",
    "\n",
    "    # Round the result to 2 decimal places\n",
    "    return round(entropy, 2)\n",
    "\n",
    "# Test data\n",
    "Afr = [[\"a\", 0.2], [\"b\", 0.3], [\"c\", 0.2], [\"d\", 0.15], [\"e\", 0.15]]\n",
    "C = [[\"a\", \"11\"], [\"b\", \"0\"], [\"c\", \"1010\"], [\"d\", \"1011\"], [\"e\", \"100\"]]\n",
    "\n",
    "# Calculate bit average\n",
    "ba = bit_average(Afr, C)\n",
    "print(\"Bit Average:\", ba)\n",
    "\n",
    "# Calculate entropy\n",
    "ent = entropy(Afr)\n",
    "print(\"Entropy:\", ent)\n"
   ]
  },
  {
   "cell_type": "markdown",
   "metadata": {},
   "source": [
    "Comments:"
   ]
  },
  {
   "cell_type": "markdown",
   "metadata": {},
   "source": [
    "###  2 Huffman algorithm\n",
    "We will now program the Huffman algorithm (see the algorithm 1.5.2 in the notes)\n",
    "\t\n",
    "Name of the procedure must be Huffman\n",
    "\t\n",
    "Input is a list (A) of pairs, each formed by a symbol of an alphabet and a probability or frequence.\n",
    "Output is a code scheme (of an optimal prefix code) \n",
    "\t\n",
    "To apply the algorithm we need a local variable (a forest B), a set or list of pairs.\n",
    "\n",
    "The first element of each pair is a list of pairs, [char,codeword],  (i.e. a tree);\n",
    "the second element is the corresponding weight.\n",
    "\t\n",
    "We initialize the forest with each vertex encoded as an empty codeword (\"\"), with weight given by the corresponding frequency.\n",
    "\t\n",
    "The algorithm then goes:\n",
    "while B has more than one element do\n",
    "- Choose two trees with minimal weight (w(p)>=w(q)).\n",
    "- In case of a tie, choose the tree with less leaves, or less depth.\n",
    "- Create a new tree t, having p as left subtree and q as right subtree.\n",
    "     (left branch from root labelled with 0, right branch with 1)\n",
    "- Assign the weight to the new tree as the sum of weights of p and q\n",
    "- Update B: delete p and q, add t.\n",
    "\t\n",
    "Output: the only element of B\n",
    "\t\n",
    "\t\n"
   ]
  },
  {
   "cell_type": "code",
   "execution_count": 38,
   "metadata": {},
   "outputs": [
    {
     "name": "stdout",
     "output_type": "stream",
     "text": [
      "[[['a', ''], 0.2], [['b', ''], 0.3], [['c', ''], 0.2], [['d', ''], 0.15], [['e', ''], 0.15]]\n",
      "[[['d', '01'], ['e', '00'], ['a', '101']], 0.5]\n"
     ]
    }
   ],
   "source": [
    "### 2.1 Hints\n",
    "#For the source Afr in the exercise above, the forest B would initialize as:\n",
    "B=[]\n",
    "for sym in Afr:\n",
    "    B=B+[[[sym[0],\"\"], sym[1]]]\n",
    "print(B)\n",
    "\n",
    "#Let us now see how to combine two minimal weight trees p, q into a new tree t. \n",
    "#For instance, suppose the two minimal weight trees are: \n",
    "p = [ [[\"d\",\"1\"],[\"e\",\"0\"]] , .3]\n",
    "q = [ [[\"a\",\"01\"]] , .2]\n",
    "# The new tree has p as left subtree (adding an initial \"0\" to all codewords in p, as the new branch is labelled \"0\"),\n",
    "# and q as right subtree (adding an initial \"1\" to all codewords).\n",
    "#The new weight is the sum of weights of p and q: \n",
    "t1 = []\n",
    "for i in range(0,len(p[0])):\n",
    "    t1 = t1 + [ [p[0][i][0],\"0\"+p[0][i][1]] ]\n",
    "for j in range(0,len(q[0])):\n",
    "    t1 = t1 + [ [q[0][j][0],\"1\"+q[0][j][1]] ]\n",
    "t = [ t1, p[1]+q[1] ]\n",
    "print(t)"
   ]
  },
  {
   "cell_type": "markdown",
   "metadata": {},
   "source": [
    "### 2.2 (1 pt) Minimal subtree selection\n",
    "First, write a function to select the minimal weight tree from a forest.\n",
    "- Input: list of pairs: The first element of each pair is a list of pairs, [char,codeword],  (i.e. a tree);\n",
    "    the second element is the corresponding weight.\n",
    "    In case of equal weights, the minimal order tree selected is the one with less leaves or with less depth.\n",
    "    (this is made in order to obtain the minimal variance Huffman code)\n",
    "- Output: pair with minimal weight."
   ]
  },
  {
   "cell_type": "code",
   "execution_count": 39,
   "metadata": {},
   "outputs": [
    {
     "name": "stdout",
     "output_type": "stream",
     "text": [
      "[[['d', '']], 0.15]\n"
     ]
    }
   ],
   "source": [
    "def minimalWeight(forest):\n",
    "    \"\"\"\n",
    "    Find the tree with the minimal weight in the given forest.\n",
    "\n",
    "    Parameters:\n",
    "    - forest (list): List of trees represented as tuples. Each tuple contains a tree (list),\n",
    "                    its weight (numeric value), and its depth (numeric value).\n",
    "\n",
    "    Returns:\n",
    "    - tuple: The tree with the minimal weight, considering ties based on the number of leaves and depth.\n",
    "    \"\"\"\n",
    "    # Sort the list by weight, then by the number of leaves, and finally by depth\n",
    "    forest.sort(key=lambda x: (x[1], len(x[0]), x[2]))\n",
    "\n",
    "    # Return the smallest element (tree with minimal weight) of the sorted forest\n",
    "    return forest[0]\n",
    "\n",
    "print(minimalWeight([[[['a', '']], 0.2], [[['b', '']], 0.3], [[['c', '']], 0.2], [[['d', '']], 0.15], [[['e', '']], 0.15]]))"
   ]
  },
  {
   "cell_type": "markdown",
   "metadata": {},
   "source": [
    "###  2.3 (2 pt) Huffman algorithm\n",
    "Write a function Huffman implementing the Huffman algorithm.\n",
    "\n",
    "Input:\n",
    "- A list (A) of pairs, each formed by a symbol of an alphabet (Alf) and a probability or frequence\n",
    "\n",
    "Output:\n",
    "- Code scheme obtained by Huffman algorithm.\n",
    "\n",
    "Notes:\n",
    "- list1+list2 gives as a result the concatenation of both lists.\n",
    "- We can delete an element e of a list l using l.delete(e)\n",
    "\t"
   ]
  },
  {
   "cell_type": "code",
   "execution_count": 108,
   "metadata": {},
   "outputs": [
    {
     "name": "stdout",
     "output_type": "stream",
     "text": [
      "[['a', '00'], ['d', '01'], ['b', '100'], ['c', '101'], ['e', '11']]\n"
     ]
    }
   ],
   "source": [
    "def Huffman(A):\n",
    "    \"\"\"\n",
    "    Generate a Huffman tree based on the given symbol frequencies.\n",
    "\n",
    "    Parameters:\n",
    "    - A (list): List of tuples representing symbols and their frequencies.\n",
    "\n",
    "    Returns:\n",
    "    - list: The root of the Huffman tree, represented as nested lists with symbols and their corresponding codes.\n",
    "    \"\"\"\n",
    "    # Initialize the forest with individual trees for each symbol\n",
    "    B = [[[ [sym[0], \"\"] ], sym[1]] for sym in A]\n",
    "\n",
    "    # Continue merging trees until only one tree remains in the forest\n",
    "    while len(B) > 1:\n",
    "        # Find and remove the tree with the smallest weight from the forest\n",
    "        p = minimalWeight(B)\n",
    "        B.remove(p)\n",
    "        # Find and remove the tree with the second smallest weight from the forest\n",
    "        q = minimalWeight(B)\n",
    "        B.remove(q)\n",
    "\n",
    "        # Create a new tree by combining the two smallest trees and add it back to the forest\n",
    "        t1 = [[p[0][i][0], \"0\" + p[0][i][1]] for i in range(len(p[0]))]\n",
    "        t1 += [[q[0][j][0], \"1\" + q[0][j][1]] for j in range(len(q[0]))]\n",
    "        t = [t1, p[1] + q[1]]\n",
    "        B.append(t)\n",
    "\n",
    "    # Return the root of the Huffman tree (the remaining tree in the forest)\n",
    "    return B[0][0]\n",
    "\n",
    "\n",
    "print(Huffman([[\"a\",0.2],[\"b\",0.1],[\"c\",0.15],[\"d\",0.25], [\"e\",0.3]]))"
   ]
  },
  {
   "cell_type": "markdown",
   "metadata": {},
   "source": [
    "### 2.4 (1 pt) Exercises\n",
    "(Problem 6.1) Apply the function to obtain Huffman encodings for the next sources:\n",
    "Calculate the bit average and entropy in each case."
   ]
  },
  {
   "cell_type": "code",
   "execution_count": 45,
   "metadata": {},
   "outputs": [
    {
     "name": "stdout",
     "output_type": "stream",
     "text": [
      "Huffman encoding:\n",
      " [['a', '00'], ['d', '01'], ['b', '100'], ['c', '101'], ['e', '11']]\n",
      "Bit average:\n",
      " 2.25\n",
      "Entropy:\n",
      " 2.23\n",
      "\n",
      "----------------------------------------------\n",
      "\n",
      "Huffman encoding:\n",
      " [['g', '000'], ['a', '001'], ['b', '01'], ['c', '1000'], ['f', '1001'], ['d', '101'], ['e', '11']]\n",
      "Bit average:\n",
      " 2.57\n",
      "Entropy:\n",
      " 2.54\n"
     ]
    }
   ],
   "source": [
    "Alfa1 = [[\"a\",0.2],[\"b\",0.1],[\"c\",0.15],[\"d\",0.25], [\"e\",0.3]];\n",
    "Alfa2 = [[\"a\",0.1],[\"b\",0.25],[\"c\",0.05],[\"d\",0.15], [\"e\",0.3],  [\"f\",0.07], [\"g\",0.08]];\n",
    "\n",
    "huffman = Huffman(Alfa1)\n",
    "print(\"Huffman encoding:\\n\", huffman)\n",
    "print(\"Bit average:\\n\", bit_average(Alfa1, huffman))\n",
    "print(\"Entropy:\\n\", entropy(Alfa1))\n",
    "\n",
    "\n",
    "print(\"\\n----------------------------------------------\\n\")\n",
    "\n",
    "huffman = Huffman(Alfa2)\n",
    "print(\"Huffman encoding:\\n\", huffman)\n",
    "print(\"Bit average:\\n\", bit_average(Alfa2, huffman))\n",
    "print(\"Entropy:\\n\", entropy(Alfa2))\n",
    "\n"
   ]
  },
  {
   "cell_type": "markdown",
   "metadata": {},
   "source": [
    "Solve the Problem 6.3.\n"
   ]
  },
  {
   "cell_type": "code",
   "execution_count": 109,
   "metadata": {},
   "outputs": [
    {
     "name": "stdout",
     "output_type": "stream",
     "text": [
      "Huffman encoding:\n",
      " [['r', '000'], ['d', '0010'], ['u', '0011'], ['e', '010'], ['l', '0110'], ['m', '0111'], ['n', '1000'], ['o', '1001'], ['s', '1010'], ['i', '10110'], ['t', '10111'], ['y', '11000'], ['b', '110010'], ['c', '110011'], ['h', '110100'], ['p', '110101'], ['q', '110110'], ['v', '110111'], ['a', '111']]\n",
      "Entropy:\n",
      " 3.44\n",
      "Bit average:\n",
      " 3.23\n"
     ]
    }
   ],
   "source": [
    "message = \"Las matematicas son a la verdad lo que audrey hepburn es a marilyn monroe\"\n",
    "\n",
    "def convertToProbList(message: str):\n",
    "    \"\"\"\n",
    "    Convert a message string into a list of symbol probabilities.\n",
    "\n",
    "    Parameters:\n",
    "    - message (str): Input message string.\n",
    "\n",
    "    Returns:\n",
    "    - list: List of tuples, each containing a symbol and its probability in the message.\n",
    "    \"\"\"\n",
    "    # Define an alphabet\n",
    "    ALFA = \"abcdefghijklmnopqrstuwwvxyz\"\n",
    "    length = len(message)\n",
    "    res = []\n",
    "\n",
    "    # Iterate through characters in the alphabet\n",
    "    for character in ALFA:\n",
    "        # Check if the character is present in the message\n",
    "        if character in message.lower():\n",
    "            # Count the occurrences of the character in the message\n",
    "            occ = message.lower().count(character)\n",
    "            # Calculate the probability of the character and add it to the result list\n",
    "            res.append([character, occ / length])\n",
    "\n",
    "    return res\n",
    "            \n",
    "\n",
    "convertedMessage = convertToProbList(message)\n",
    "huffman = Huffman(convertedMessage)\n",
    "print(\"Huffman encoding:\\n\", huffman)\n",
    "print(\"Entropy:\\n\", entropy(convertedMessage))\n",
    "print(\"Bit average:\\n\", bit_average(convertedMessage, huffman))"
   ]
  },
  {
   "cell_type": "markdown",
   "metadata": {},
   "source": [
    "### 3 CRC: Strings and polynomials (1.5 pts)\n",
    "### 3.1 Polynomial to strings\n",
    "Define a function that gives the bitstring associated to a polynomial of Z2(x).\n",
    "\t\n",
    "    Input:\n",
    "    - A polynomial in the indeterminate x\n",
    "\t\n",
    "    Output:\n",
    "    - The bitstring of coefficients\n"
   ]
  },
  {
   "cell_type": "code",
   "execution_count": 4,
   "metadata": {
    "ExecuteTime": {
     "end_time": "2023-12-21T09:02:20.265392596Z",
     "start_time": "2023-12-21T09:02:19.918929211Z"
    }
   },
   "outputs": [
    {
     "name": "stdout",
     "output_type": "stream",
     "text": [
      "Poly(x**3 + x**2 + 1, x, modulus=2)\n",
      "[1, 1, 0, 1]\n",
      "3\n"
     ]
    }
   ],
   "source": [
    "# Hints \n",
    "from sympy import *\n",
    "\n",
    "x= symbols('x')\n",
    "p= Poly(x**3+x**2+1,x,modulus=2)\n",
    "print(p)\n",
    "l=p.all_coeffs()\n",
    "n=p.degree()\n",
    "print(l)\n",
    "print(n)"
   ]
  },
  {
   "cell_type": "code",
   "execution_count": 111,
   "metadata": {
    "ExecuteTime": {
     "end_time": "2023-12-21T09:04:06.899649443Z",
     "start_time": "2023-12-21T09:04:06.870812569Z"
    }
   },
   "outputs": [
    {
     "name": "stdout",
     "output_type": "stream",
     "text": [
      "Poly(x**3 + x**2 + 1, x, modulus=2)\n",
      "[1, 1, 0, 1]\n",
      "3\n",
      "Polynomial: Poly(x**3 + x**2 + 1, x, modulus=2)\n",
      "Bitstring: 1101\n"
     ]
    }
   ],
   "source": [
    "def polynomial_to_bitstring(poly):\n",
    "    \"\"\"\n",
    "    Convert a polynomial to a bitstring representation based on its coefficients.\n",
    "\n",
    "    Parameters:\n",
    "    - poly: Polynomial object representing the polynomial.\n",
    "\n",
    "    Returns:\n",
    "    - str: Bitstring representation of the polynomial coefficients.\n",
    "    \"\"\"\n",
    "    # Get the coefficients of the polynomial\n",
    "    coefficients = poly.all_coeffs()\n",
    "\n",
    "    # Convert the coefficients to a bitstring\n",
    "    bitstring = ''.join(map(str, coefficients))\n",
    "\n",
    "    return bitstring\n",
    "\n",
    "\n",
    "x = symbols('x')\n",
    "polynomial = Poly(x**3+x**2+1,x,modulus=2)\n",
    "bitstring = polynomial_to_bitstring(polynomial)\n",
    "x= symbols('x')\n",
    "print(polynomial)\n",
    "l=polynomial.all_coeffs()\n",
    "n=polynomial.degree()\n",
    "print(l)\n",
    "print(n)\n",
    "\n",
    "\n",
    "print(f\"Polynomial: {polynomial}\")\n",
    "print(f\"Bitstring: {bitstring}\")"
   ]
  },
  {
   "cell_type": "markdown",
   "metadata": {},
   "source": [
    "### 3.2 Strings to polynomials\n",
    "Define a function that gives the polynomial of Z2(x) associated to a bitstring.\n",
    "\t\n",
    "    Input:\n",
    "    - A bitstring of 0s and 1s, an an-1 ... a1 a0\n",
    "\t\n",
    "    Output:\n",
    "    - The polynomial an*x^n+an-1*x^(n-1)+...+a1*x+a0\n",
    "\n",
    "Hints: - you can use a conditional to transform chars into integers"
   ]
  },
  {
   "cell_type": "code",
   "execution_count": 110,
   "metadata": {},
   "outputs": [
    {
     "name": "stdout",
     "output_type": "stream",
     "text": [
      "Poly(x**5 + x**3 + x, x, modulus=2)\n",
      "[1, 0, 1, 0, 1, 0]\n",
      "5\n"
     ]
    }
   ],
   "source": [
    "def stringToPolynomial(s: str):\n",
    "    \"\"\"\n",
    "    Convert a bitstring to a polynomial representation.\n",
    "\n",
    "    Parameters:\n",
    "    - s (str): Input bitstring.\n",
    "\n",
    "    Returns:\n",
    "    - Poly: Polynomial representation of the input bitstring.\n",
    "    \"\"\"\n",
    "    res = \"\"\n",
    "\n",
    "    # Iterate through the bitstring and create a polynomial out of it\n",
    "    for i in range(len(s)):\n",
    "        # If it is the last character in the bitstring, do not add the plus sign at the end\n",
    "        if i == len(s) - 1:\n",
    "            res += s[-1]\n",
    "            break\n",
    "        elif s[i] == '0':\n",
    "            continue\n",
    "        # Create a string with 'x**' + the exponent\n",
    "        res += \"x**\" + str(len(s) - i - 1) + \"+\"\n",
    "    \n",
    "    # Convert the resulting string to a polynomial\n",
    "    return Poly(res, x, modulus=2)\n",
    "\n",
    "\n",
    "poly = stringToPolynomial(\"101010\")\n",
    "print(poly)\n",
    "print(poly.all_coeffs())\n",
    "print(poly.degree())"
   ]
  },
  {
   "cell_type": "markdown",
   "metadata": {},
   "source": [
    "### 3.3 Examples\n",
    "\n",
    "To perform calculations in Z2[x]:\n",
    " "
   ]
  },
  {
   "cell_type": "code",
   "execution_count": 6,
   "metadata": {
    "ExecuteTime": {
     "end_time": "2023-12-21T09:04:34.918723241Z",
     "start_time": "2023-12-21T09:04:34.861104073Z"
    }
   },
   "outputs": [
    {
     "name": "stdout",
     "output_type": "stream",
     "text": [
      "Poly(0, x, modulus=2)\n"
     ]
    }
   ],
   "source": [
    "g = Poly (x**4+x**2+x+1,x,modulus=2)\n",
    "p = Poly (x**14+1,x,modulus=2)\n",
    "r=div(p,g)[1]\n",
    "print(r) #that is the remainder "
   ]
  },
  {
   "cell_type": "markdown",
   "metadata": {},
   "source": [
    "Compute the remainder of \"1001010010010\" divided by \"1010010\", written as a bitstring"
   ]
  },
  {
   "cell_type": "code",
   "execution_count": 52,
   "metadata": {
    "ExecuteTime": {
     "end_time": "2023-12-21T09:05:12.816319750Z",
     "start_time": "2023-12-21T09:05:12.756849137Z"
    }
   },
   "outputs": [
    {
     "name": "stdout",
     "output_type": "stream",
     "text": [
      "Reminder: Poly(x**4 + x**3 + x**2, x, modulus=2)\n",
      "Reminder as a bitstring: 11100\n"
     ]
    }
   ],
   "source": [
    "# Example usage\n",
    "dividend = \"1001010010010\"\n",
    "divisor = \"1010010\"\n",
    "\n",
    "poly1 = stringToPolynomial(dividend)\n",
    "poly2 = stringToPolynomial(divisor)\n",
    "\n",
    "remindPoly = div(poly1, poly2)[1]\n",
    "print(\"Reminder:\", remindPoly)\n",
    "print(\"Reminder as a bitstring:\", polynomial_to_bitstring(remindPoly))"
   ]
  },
  {
   "cell_type": "markdown",
   "metadata": {},
   "source": [
    "### 4 CRC systematic encoding and decoding\n",
    "###  4.1 Generator polynomial (0.5 pts)\n",
    "\n",
    "Write a function to check if a bitstring g is associated to\n",
    "\ta generator g(x) of a CRC of length n.\n",
    "\n",
    "    Input: A bitstring g, an integer n\n",
    "\t\n",
    "    Output: A boolean: is g a valid generator?\n",
    "\n",
    "Hint: It suffices to check that g(x) divides x^n+1.\n",
    "\tNote that deg g(x)=len(g)-1=n-k\n",
    " "
   ]
  },
  {
   "cell_type": "code",
   "execution_count": 114,
   "metadata": {},
   "outputs": [
    {
     "name": "stdout",
     "output_type": "stream",
     "text": [
      "Is '101' a valid generator for CRC-5? False\n"
     ]
    }
   ],
   "source": [
    "def is_valid_generator(g, n):\n",
    "    \n",
    "    x = symbols('x')\n",
    "\n",
    "    # Construct the polynomial x^n + 1\n",
    "    xn_plus_1 = Poly(x**n + 1, x)\n",
    "\n",
    "    # Convert the bitstring g to a list of coefficients\n",
    "    g_coeffs = [int(bit) for bit in g]\n",
    "\n",
    "    # Construct the polynomial g(x)\n",
    "    gx = Poly(sum(c * x**i for i, c in enumerate(reversed(g_coeffs))), x)\n",
    "\n",
    "    # Polynomial division: Check if g(x) divides x^n + 1\n",
    "    _, remainder = divmod(xn_plus_1, gx)\n",
    "\n",
    "    # If the remainder is zero, g(x) divides x^n + 1\n",
    "    return remainder.is_zero\n",
    "\n",
    "\n",
    "# Example usage\n",
    "generator_bitstring = \"1001\"\n",
    "crc_length = 4\n",
    "\n",
    "result = is_valid_generator(generator_bitstring, crc_length)\n",
    "print(f\"Is '{generator_bitstring}' a valid generator for CRC-{crc_length}? {result}\")"
   ]
  },
  {
   "cell_type": "markdown",
   "metadata": {},
   "source": [
    "### 4.2 Systematic encoding (1.5 pts)\n",
    "Write a function CRCEncode to compute the systematic encoding of a source word u\n",
    "\tin a CRC code of length n with generator g.\n",
    "\t\n",
    "    Input:\n",
    "    - a bitstring of length k, the source word u\n",
    "\t- a bitstring of length n-k+1, the generator g\n",
    "\t- an integer n\n",
    "\t\n",
    "    Output:\n",
    "    - A bitstring of length n, the encoded word.\n",
    " "
   ]
  },
  {
   "cell_type": "code",
   "execution_count": 116,
   "metadata": {},
   "outputs": [
    {
     "data": {
      "text/plain": [
       "'1101001'"
      ]
     },
     "execution_count": 116,
     "metadata": {},
     "output_type": "execute_result"
    }
   ],
   "source": [
    "from math import log, ceil\n",
    "\n",
    "def CRCEncode(dataword, generator, length):\n",
    "    \"\"\"\n",
    "    Encode a dataword using a cyclic redundancy check (CRC) generator polynomial.\n",
    "\n",
    "    Parameters:\n",
    "    - dataword (str): Binary string representing the input dataword.\n",
    "    - generator (str): Binary string representing the CRC generator polynomial.\n",
    "    - length (int): Length of the input dataword.\n",
    "\n",
    "    Returns:\n",
    "    - str: Binary string representing the CRC encoded codeword.\n",
    "    \"\"\"\n",
    "    # Check if the length of the dataword matches the specified length\n",
    "    if len(dataword) != length:\n",
    "        raise ValueError(\"Length error\")\n",
    "\n",
    "    # Convert dataword to an integer\n",
    "    dword = int(dataword, 2)\n",
    "    l_gen = len(generator)\n",
    "\n",
    "    # Append 0s to the dividend\n",
    "    dividend = dword << (l_gen - 1)\n",
    "\n",
    "    # Shift specifies the number of least significant bits not being XORed\n",
    "    shft = ceil(log(dividend + 1, 2)) - l_gen\n",
    "\n",
    "    # Convert generator to an integer\n",
    "    generator = int(generator, 2)\n",
    "\n",
    "    # Perform CRC encoding\n",
    "    while dividend >= generator or shft >= 0:\n",
    "        # Bitwise XOR the MSBs of dividend with generator\n",
    "        # Replace the operated MSBs from the dividend with the remainder generated\n",
    "        rem = (dividend >> shft) ^ generator\n",
    "        dividend = (dividend & ((1 << shft) - 1)) | (rem << shft)\n",
    "\n",
    "        # Change shft variable\n",
    "        shft = ceil(log(dividend + 1, 2)) - l_gen\n",
    "\n",
    "    # Finally, AND the initial dividend with the remainder (=dividend)\n",
    "    codeword = dword << (l_gen - 1) | dividend\n",
    "\n",
    "    # Convert codeword to a binary string and remove the prefix\n",
    "    return bin(codeword).lstrip(\"-0b\")\n",
    "\n",
    "\n",
    "# Driver code\n",
    "dataword = \"11010\"\n",
    "generator = \"101\"\n",
    "CRCEncode(dataword, generator, 5)\n"
   ]
  },
  {
   "cell_type": "markdown",
   "metadata": {},
   "source": [
    "### 4.3 Error detection and decoding (1 pt)\n",
    "Write a function CRCDecode to check if a received word v is a code word\n",
    "of a CRC of length n and generator g. If the answer is yes, give the\n",
    "source word as output. In other case, return an empty string.\n",
    "\n",
    "    Input:\n",
    "    - a bitstring of length n, the received word v\n",
    "\t- a bitstring of length n-k+1, the generator g\n",
    "\t- an integer n\n",
    "\t\n",
    "    Output:\n",
    "    - If no error is detected, a bitstring of length k, the source word.\n",
    "\t- If an error is detected, an empty string.\n"
   ]
  },
  {
   "cell_type": "code",
   "execution_count": 117,
   "metadata": {
    "ExecuteTime": {
     "end_time": "2023-12-21T09:11:46.255546309Z",
     "start_time": "2023-12-21T09:11:46.230533908Z"
    }
   },
   "outputs": [
    {
     "name": "stdout",
     "output_type": "stream",
     "text": [
      "Source word: 11010\n"
     ]
    }
   ],
   "source": [
    "from sympy import symbols, Poly\n",
    "\n",
    "def CRCDecode(v, g, n):\n",
    "    \"\"\"\n",
    "    Decode a received codeword using a cyclic redundancy check (CRC) generator polynomial.\n",
    "\n",
    "    Parameters:\n",
    "    - v (str): Binary string representing the received codeword.\n",
    "    - g (str): Binary string representing the CRC generator polynomial.\n",
    "    - n (int): Length of the received codeword.\n",
    "\n",
    "    Returns:\n",
    "    - str: Binary string representing the decoded source word if no error is detected, otherwise an empty string.\n",
    "    \"\"\"\n",
    "    # Define the symbolic variable x for polynomial operations\n",
    "    x = symbols('x')\n",
    "\n",
    "    # Convert the bitstrings v and g to lists of integers\n",
    "    v_coeffs = [int(bit) for bit in v]\n",
    "    g_coeffs = [int(bit) for bit in g]\n",
    "\n",
    "    # Construct the polynomials v(x) and g(x)\n",
    "    vx = Poly(sum(c * x**i for i, c in enumerate(reversed(v_coeffs))), x)\n",
    "    gx = Poly(sum(c * x**i for i, c in enumerate(reversed(g_coeffs))), x)\n",
    "\n",
    "    # Perform polynomial division: divide vx by gx\n",
    "    _, remainder = divmod(vx, gx)\n",
    "\n",
    "    # If the remainder is zero, no error is detected\n",
    "    if remainder.is_zero:\n",
    "        # Extract the source word from the received word\n",
    "        source_word = v[:len(v) - len(g) + 1]\n",
    "        return source_word\n",
    "    else:\n",
    "        # Error is detected, return an empty string\n",
    "        return \"\"\n",
    "\n",
    "\n",
    "# Example usage\n",
    "received_word = \"1101001\"\n",
    "generator = \"101\"\n",
    "crc_length = 5\n",
    "\n",
    "result = CRCDecode(received_word, generator, crc_length)\n",
    "if result:\n",
    "    print(f\"Source word: {result}\")\n",
    "else:\n",
    "    print(\"Error detected, the received word is not a valid code word.\")"
   ]
  },
  {
   "cell_type": "code",
   "execution_count": 106,
   "metadata": {},
   "outputs": [
    {
     "name": "stdout",
     "output_type": "stream",
     "text": [
      "Sent: 11010 - Encoded: 1101001 - Received: 11010\n",
      "Sent: 10111 - Encoded: 1011111 - Received: 10111\n",
      "Sent: 10101 - Encoded: 1010101 - Received: 10101\n",
      "Sent: 11010 - Encoded: 1101001 - Received: 11010\n"
     ]
    }
   ],
   "source": [
    "# TESTS\n",
    "dataword1 = \"11010\"\n",
    "dataword2 = \"10111\"\n",
    "dataword3 = \"10101\"\n",
    "dataword4 = \"11010\"\n",
    "generator = \"101\"\n",
    "crc_length = 5\n",
    "\n",
    "encoded_word1 = CRCEncode(dataword1, generator, crc_length)\n",
    "encoded_word2 = CRCEncode(dataword2, generator, crc_length)\n",
    "encoded_word3 = CRCEncode(dataword3, generator, crc_length)\n",
    "encoded_word4 = CRCEncode(dataword4, generator, crc_length)\n",
    "\n",
    "received_word1 = CRCDecode(encoded_word1, generator, crc_length)\n",
    "received_word2 = CRCDecode(encoded_word2, generator, crc_length)\n",
    "received_word3 = CRCDecode(encoded_word3, generator, crc_length)\n",
    "received_word4 = CRCDecode(encoded_word4, generator, crc_length)\n",
    "\n",
    "print(f\"Sent: {dataword1} - Encoded: {encoded_word1} - Received: {received_word1}\")\n",
    "print(f\"Sent: {dataword2} - Encoded: {encoded_word2} - Received: {received_word2}\")\n",
    "print(f\"Sent: {dataword3} - Encoded: {encoded_word3} - Received: {received_word3}\")\n",
    "print(f\"Sent: {dataword4} - Encoded: {encoded_word4} - Received: {received_word4}\")"
   ]
  },
  {
   "cell_type": "markdown",
   "metadata": {},
   "source": [
    "### 4.4 Exercise (0.5 pts)\n",
    "Solve the exercise 6.8 in the notes.\n"
   ]
  },
  {
   "cell_type": "markdown",
   "metadata": {},
   "source": [
    "# (a) Determine the code parameters nn and kk.\n",
    "\n",
    "Given the generator polynomial g(x)=x^8+1, we can determine the code parameters:\n",
    "\n",
    "    The code length nn is the degree of the generator polynomial, so n=8.\n",
    "    The message length k is given by n−deg(g), so k=8−1=7."
   ]
  },
  {
   "cell_type": "code",
   "execution_count": null,
   "metadata": {},
   "outputs": [],
   "source": []
  }
 ],
 "metadata": {
  "kernelspec": {
   "display_name": "Python 3",
   "language": "python",
   "name": "python3"
  },
  "language_info": {
   "codemirror_mode": {
    "name": "ipython",
    "version": 3
   },
   "file_extension": ".py",
   "mimetype": "text/x-python",
   "name": "python",
   "nbconvert_exporter": "python",
   "pygments_lexer": "ipython3",
   "version": "3.9.11"
  }
 },
 "nbformat": 4,
 "nbformat_minor": 4
}
