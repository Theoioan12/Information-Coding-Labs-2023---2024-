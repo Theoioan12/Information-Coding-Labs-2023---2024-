{
 "cells": [
  {
   "cell_type": "markdown",
   "metadata": {
    "pycharm": {
     "name": "#%% md\n"
    }
   },
   "source": [
    "## Information Coding 2023-24\n",
    "\n",
    "## Lab assignment 3 (Lab session 4, 16-11-2023)\n",
    "\n",
    "## Public key cryptography\n",
    "\n",
    " (Estimated working time: 2 hours lab + 3 hours home);\n",
    "\t\n",
    " Student names:\n",
    "\n",
    " Buliga Theodor Ioan,\n",
    " \n",
    " Javier Cirugeda Bugallo\n",
    "\n",
    "**INSTRUCTIONS**\n",
    " \n",
    "- Practices are to be done in groups of two (or one). \n",
    "- This solved practice has to be uploaded in Moodle before September 30th, 23:55h. \n",
    "- The submission must be done by the first author (alphabetical order).\n",
    "- Name the file with authors' names.\n",
    "- This practice accounts for 5% of final grade for both autors. Grading items:\n",
    "    * Defined functions 50% (eficiency, clarity, code documentation)\n",
    "    * Exercise solving 40%\n",
    "    * Mathematical correction, clarity of results, language precission, 10%.\n",
    "- To get any credit, physical presence in the practice session is a must.\n",
    "\n",
    "\n",
    "\n",
    " "
   ]
  },
  {
   "cell_type": "markdown",
   "metadata": {
    "pycharm": {
     "name": "#%% md\n"
    }
   },
   "source": [
    "The following alphabet shall be used throughout this practice, unless otherwise stated."
   ]
  },
  {
   "cell_type": "code",
   "execution_count": 40,
   "metadata": {
    "pycharm": {
     "name": "#%%\n"
    }
   },
   "outputs": [
    {
     "data": {
      "text/plain": [
       "38"
      ]
     },
     "execution_count": 40,
     "metadata": {},
     "output_type": "execute_result"
    }
   ],
   "source": [
    "ALFA=\" ABCDEFGHIJKLMNÑOPQRSTUVWXYZ0123456789\"\n",
    "len(ALFA)"
   ]
  },
  {
   "cell_type": "markdown",
   "metadata": {
    "pycharm": {
     "name": "#%% md\n"
    }
   },
   "source": [
    "### 1 Numerical equivalent of a message\n",
    "\n",
    "Remember that any message m written in an alphabet A (of size r) can be given a numerical value,\n",
    "\tthe position of the message in the list of all messages, with lexicographical order. \n",
    "\t\n",
    "For instance, the message \"ABCD\", on the alphabet ALFA of length r=38, can be computed as"
   ]
  },
  {
   "cell_type": "code",
   "execution_count": 41,
   "metadata": {
    "pycharm": {
     "name": "#%%\n"
    }
   },
   "outputs": [
    {
     "data": {
      "text/plain": [
       "114233"
      ]
     },
     "execution_count": 41,
     "metadata": {},
     "output_type": "execute_result"
    }
   ],
   "source": [
    "r=len(ALFA)\n",
    "(ALFA.find(\"A\")+1)*r**3+(ALFA.find(\"B\")+1)*r**2+(ALFA.find(\"C\")+1)*r+(ALFA.find(\"D\")+1)\n"
   ]
  },
  {
   "cell_type": "markdown",
   "metadata": {
    "pycharm": {
     "name": "#%% md\n"
    }
   },
   "source": [
    "Notice that ```string.find(char)``` gives the position of the the first appearance of char in string,\n",
    "     from 0 to len(string)-1. We need position from 1 to len(string)."
   ]
  },
  {
   "cell_type": "markdown",
   "metadata": {
    "pycharm": {
     "name": "#%% md\n"
    }
   },
   "source": [
    "This polynomial in r can be computed more efficiently using the Horner scheme (Ruffini)."
   ]
  },
  {
   "cell_type": "code",
   "execution_count": 42,
   "metadata": {
    "pycharm": {
     "name": "#%%\n"
    }
   },
   "outputs": [
    {
     "data": {
      "text/plain": [
       "114233"
      ]
     },
     "execution_count": 42,
     "metadata": {},
     "output_type": "execute_result"
    }
   ],
   "source": [
    "value=0\n",
    "for c in \"ABCD\":\n",
    "    value = value * r + (ALFA.find(c) + 1)\n",
    "value"
   ]
  },
  {
   "cell_type": "markdown",
   "metadata": {
    "pycharm": {
     "name": "#%% md\n"
    }
   },
   "source": [
    "#### 1.1 Exercise (2 pts)\n",
    "(a) (0.75 pts) Define a function ```NumberEquivalent```:\n",
    "\n",
    "**INPUT:**  a string m (a message), a string A (the alphabet)\n",
    "\n",
    "**OUTPUT:** The numerical value of m on the alphabet A.\n",
    "\t\n",
    "*(If a symbol of the message is not in A, the function must give an error message)*\n",
    "    \n",
    "(b) (0.75 pts) Define a function ```TextEquivalent```:\n",
    "\n",
    "**INPUT:**  a natural number n (the numerical equivalent), a string A (the alphabet)\n",
    "\n",
    "**OUTPUT:** a string with the message corresponding to the number and alphabet given.\n",
    "\n",
    "(c) (0.5 pts) Try the function on some relevant cases. They must include the following:\n",
    "\t    \n",
    "        Numerical value on the alphabet ALFA of:\n",
    "        \"\"\n",
    "        \"L\"\n",
    "        \"W\"\n",
    "        \"AA\"\n",
    "        \"BCD\"\n",
    "        \"GCM41\"\n",
    "        \"Patata\" \n",
    "        \n",
    "        Message equivalent of the numbers obtained above"
   ]
  },
  {
   "cell_type": "code",
   "execution_count": 43,
   "metadata": {
    "pycharm": {
     "is_executing": true,
     "name": "#%%\n"
    }
   },
   "outputs": [
    {
     "name": "stdout",
     "output_type": "stream",
     "text": [
      "114233\n",
      "0\n",
      "13\n",
      "25\n",
      "78\n",
      "4489\n",
      "16922076\n"
     ]
    }
   ],
   "source": [
    "def NumberEquivalent(m:str, A:str):\n",
    "    if len(m) == 0:\n",
    "        return 0\n",
    "    result = 0\n",
    "    for c in m:\n",
    "        if c not in A:\n",
    "            raise ValueError(\"The symbol \" + c + \" is not in the alphabet \")\n",
    "        result = result * len(A) + (A.find(c) + 1)\n",
    "    return result\n",
    "\n",
    "print(NumberEquivalent(\"ABCD\", ALFA))\n",
    "print(NumberEquivalent(\"\", ALFA))\n",
    "print(NumberEquivalent(\"L\", ALFA))\n",
    "print(NumberEquivalent(\"W\", ALFA))\n",
    "print(NumberEquivalent(\"AA\", ALFA))\n",
    "print(NumberEquivalent(\"BCD\", ALFA))\n",
    "print(NumberEquivalent(\"GCM41\", ALFA))\n",
    "#print(NumberEquivalent(\"Patata\", ALFA)) # Exception is raised because we have unknown values in the message that are not in the alphabet"
   ]
  },
  {
   "cell_type": "code",
   "execution_count": 44,
   "metadata": {
    "pycharm": {
     "name": "#%%\n"
    }
   },
   "outputs": [
    {
     "name": "stdout",
     "output_type": "stream",
     "text": [
      "ABCD\n",
      "\n",
      "L\n",
      "W\n",
      "AA\n",
      "BCD\n",
      "GCM41\n"
     ]
    }
   ],
   "source": [
    "def TextEquivalent(n:int, A:str):\n",
    "    if n == 0:\n",
    "        return \"\"\n",
    "    result = \"\"\n",
    "    while n > 0:\n",
    "        result = A[((n - 1) % len(A))] + result\n",
    "        n = (n - 1) // len(A)\n",
    "    return result\n",
    "\n",
    "print(TextEquivalent(114233, ALFA))\n",
    "print(TextEquivalent(0, ALFA))\n",
    "print(TextEquivalent(13, ALFA))\n",
    "print(TextEquivalent(25, ALFA))\n",
    "print(TextEquivalent(78, ALFA))\n",
    "print(TextEquivalent(4489, ALFA))\n",
    "print(TextEquivalent(16922076, ALFA))"
   ]
  },
  {
   "cell_type": "markdown",
   "metadata": {
    "pycharm": {
     "name": "#%% md\n"
    }
   },
   "source": [
    "### 2 RSA cryptosystem\n",
    "####  2.1 Exercise (4 pts)\n",
    "\n",
    "(a) (1 pt) Write a function ```GenerateRSAKeys```.\n",
    "\n",
    "**INPUT:**  an integer k (size of primes in digits)\n",
    "\n",
    "**OUTPUT:** a list [n,e] where \n",
    "- n=pq, p,q being random primes of size k digits, with p>2q  \n",
    "- e is a random integer, prime with (p-1)(q-1)\n",
    "\n",
    "*After running the function, the global variable ```RSAPrivateKey``` must be equal to [n,d], where d is the modular inverse of e mod (p-1)(q-1)*\n",
    "\t\n",
    "Use the function to generate Alice's private and public key, with prime numbers of 10 digits.\n",
    "\t\n",
    "*Remark:*\n",
    "- ```random.randrange(a, b)``` gives a random integer between a and b-1\n",
    "- ```sympy.nextprime(n)``` gives the first prime number greater than n\n",
    "- ```sympy.prevprime(n)``` gives the previous prime number to n"
   ]
  },
  {
   "cell_type": "code",
   "execution_count": 45,
   "metadata": {
    "pycharm": {
     "name": "#%%\n"
    }
   },
   "outputs": [
    {
     "name": "stdout",
     "output_type": "stream",
     "text": [
      "Public Key: [18061769115052795969, 2006153267336180969]\n",
      "Private Key: [18061769115052795969, 11958020243307173829]\n"
     ]
    }
   ],
   "source": [
    "import random as rd\n",
    "import math\n",
    "import time\n",
    "import sympy as sp\n",
    "k=5\n",
    "p=random.randrange(10**(k-1),10**k)\n",
    "sp.nextprime(p)\n",
    "# Function to generate RSA key pair\n",
    "def GenerateRSAKeys(k):\n",
    "    # Generate random prime numbers p and q with k digits\n",
    "    p = sp.nextprime(random.randrange(10**(k-1), 10**k))\n",
    "    q = sp.nextprime(random.randrange(10**(k-1), 10**k))\n",
    "    \n",
    "    # Ensure p is more than twice the value of q\n",
    "    while p <= 2*q:\n",
    "        p = sp.nextprime(random.randrange(10**(k-1), 10**k))\n",
    "        q = sp.nextprime(random.randrange(10**(k-1), 10**k))\n",
    "    \n",
    "    # Calculate phi(n) and n\n",
    "    phi = (p-1) * (q-1) \n",
    "    n = p * q\n",
    "\n",
    "    # Generate a random number e and find its greatest common divisor with phi(n) and we ensure that e and phi(n) are coprime\n",
    "    e = rd.randrange(2, phi)\n",
    "    while sp.gcd(e, phi) != 1:\n",
    "        e = rd.randrange(2, phi)\n",
    "    \n",
    "    # Calculate the modular multiplicative inverse of e modulo phi(n)\n",
    "    d = sp.mod_inverse(e, phi)\n",
    "    \n",
    "    # Store the private key [n, d] in a global variable\n",
    "    global RSAPrivateKey \n",
    "    RSAPrivateKey = [n, d]\n",
    "    \n",
    "    # Return the public key [n, e]\n",
    "    return [n, e]\n",
    "    \n",
    "# Print the generated RSA public key with 10 digits and the Private Key\n",
    "print(\"Public Key:\", GenerateRSAKeys(10))\n",
    "print(\"Private Key:\", RSAPrivateKey)"
   ]
  },
  {
   "cell_type": "markdown",
   "metadata": {
    "pycharm": {
     "name": "#%% md\n"
    }
   },
   "source": [
    "(b) (2 pts) Define a function ```RSA```.\n",
    "\n",
    "**INPUT:**  a string m (the message) OR a list of natural numbers (the cryptogram), a string A (the alphabet), a list key with two natural numbers (the public or private key, key=[n,e] OR [n,d])\n",
    "\n",
    "**OUTPUT:**\n",
    "- If m is a string, the output is the RSA encription of m on the alphabet A using the key [n,e] (the message is divided in blocks of length ```l = int(sp.log((r-1)*n+1)/sp.log(r)-1)```, gets the numerical value of each block, and encrypts it as $\\text{value}^e \\mod n$. The encryptions, in a list, are the output).\n",
    "- If m is a list of naturals, the output is the string resulting of the decryption of the cryptogram on the alphabet A using the key [n,d] (each integer $k$ in the list is transformed as $k^d \\mod n$; the resulting number is transformed into the corresponding message. The output is the concatenation  of all partial messages from the list)"
   ]
  },
  {
   "cell_type": "code",
   "execution_count": 46,
   "metadata": {
    "pycharm": {
     "name": "#%%\n"
    }
   },
   "outputs": [
    {
     "name": "stdout",
     "output_type": "stream",
     "text": [
      "Message:  BUENAS TARDES PROFE\n",
      "Encrypted message:  [3615288089733553725, 1428579173737175793]\n",
      "Decrypted message:  BUENAS TARDES PROFE\n"
     ]
    }
   ],
   "source": [
    "# Function for RSA encryption and decryption\n",
    "def RSA(m, A, key):\n",
    "    # Check if the key is correct\n",
    "    if len(key) != 2:\n",
    "        raise ValueError(\"Incorrect key\")\n",
    "    if not all(isinstance(k, int) for k in key):\n",
    "        raise TypeError(\"Values in key not integers\")\n",
    "    \n",
    "    # Extract modulus (n) and exponent (e or d) from the key\n",
    "    n, e = key\n",
    "\n",
    "    # Calculate the block size (l) based on the alphabet size (r) and modulus (n)\n",
    "    r = len(A)\n",
    "    l = math.floor(math.log((r - 1) * n + 1, r) - 1)\n",
    "\n",
    "    # If the input message is a string, perform encryption\n",
    "    if isinstance(m, str):\n",
    "        encryptions = []\n",
    "        # Process the message in blocks of size 'l'\n",
    "        for i in range(0, len(m), l):\n",
    "            block = m[i:i+l]\n",
    "            # Convert the block to a numerical representation using the given alphabet 'A'\n",
    "            number = NumberEquivalent(block, A)\n",
    "            # Perform modular exponentiation to encrypt the block\n",
    "            encryptions.append(pow(number, e, n))\n",
    "        return encryptions\n",
    "    \n",
    "    # If the input message is a list (encrypted blocks), perform decryption\n",
    "    elif isinstance(m, list):\n",
    "        decryptions = \"\"\n",
    "        # Perform modular exponentiation on each encrypted block and convert back to text\n",
    "        for number in m:\n",
    "            decryptions += TextEquivalent(pow(number, key[1], key[0]), A)\n",
    "        return decryptions\n",
    "  \n",
    "    else:\n",
    "        # Raise an error for invalid input type\n",
    "        raise ValueError(\"Invalid input for message\")\n",
    "\n",
    "\n",
    "# Example usage\n",
    "# Define the message 'm'\n",
    "m = \"BUENAS TARDES PROFE\"\n",
    "print(\"Message: \", m)\n",
    "\n",
    "# Encrypt the message using RSA with a 10-digit key and alphabet 'ALFA'\n",
    "enc = RSA(m, ALFA, GenerateRSAKeys(10))\n",
    "print(\"Encrypted message: \", enc)\n",
    "\n",
    "# Decrypt the encrypted message using RSA and the private key\n",
    "dec = RSA(enc, ALFA, RSAPrivateKey)\n",
    "print(\"Decrypted message: \", dec)\n"
   ]
  },
  {
   "cell_type": "markdown",
   "metadata": {
    "pycharm": {
     "name": "#%% md\n"
    }
   },
   "source": [
    "(c) (0.5 pts) Encrypt the message \"PLEASE PAY 6500 EUROS TO SUPPLIER 32\" to send it to\n",
    "\ta user with public key [222404123,479]. \n",
    " \n",
    "(d) (0.5 pts) Find out the private key of the user above. Measure the time needed to do it.\n",
    "\tWhich size would be enough to assure reasonable safety if we use Maxima as cryptanalitic tool?\n",
    "\n",
    "\tFor robust protection against cryptanalytic tools such as Maxima, it is advisable to use a key size of at least 2048 bits for RSA encryption. For enhanced security, a key size of 4096 bits is recommended."
   ]
  },
  {
   "cell_type": "code",
   "execution_count": 47,
   "metadata": {
    "pycharm": {
     "name": "#%%\n"
    }
   },
   "outputs": [
    {
     "name": "stdout",
     "output_type": "stream",
     "text": [
      "Encrypted message with public key [222404123,479] is:  [117405104, 70857741, 9645250, 31582339, 46415456, 108104541, 62747465, 15444253]\n"
     ]
    }
   ],
   "source": [
    "# c)\n",
    "encrypted_message = RSA(\"PLEASE PAY 6500 EUROS TO SUPPLIER 32\", ALFA, [222404123, 479])\n",
    "print(\"Encrypted message with public key [222404123,479] is: \",encrypted_message)"
   ]
  },
  {
   "cell_type": "code",
   "execution_count": 48,
   "metadata": {
    "pycharm": {
     "is_executing": true,
     "name": "#%%\n"
    }
   },
   "outputs": [
    {
     "name": "stdout",
     "output_type": "stream",
     "text": [
      "Decrypted message: PLEASE PAY 6500 EUROS TO SUPPLIER 32\n",
      "Private key: 63130271\n",
      "Time: 0.0 seconds\n"
     ]
    }
   ],
   "source": [
    "# d)\n",
    "# Function to find the private key given the modulus (n) and public exponent (e)\n",
    "def find_private_key(n, e):\n",
    "    # Record the start time for measuring the execution time\n",
    "    start_time = time.time()\n",
    "    \n",
    "    # Factorize the modulus 'n' to find prime factors 'p' and 'q'\n",
    "    p, q = sp.factorint(n).keys()\n",
    "    \n",
    "    # Calculate Euler's totient function (phi_n)\n",
    "    phi = (p - 1) * (q - 1)\n",
    "    \n",
    "    # Find the modular multiplicative inverse of 'e' modulo 'phi_n' to get the private exponent 'd'\n",
    "    d = sp.mod_inverse(e, phi)\n",
    "    \n",
    "    # Record the end time and calculate the time taken for the computation\n",
    "    end_time = time.time()\n",
    "    time_taken = end_time - start_time\n",
    "    \n",
    "    # Return the private key 'd' and the time taken for the computation\n",
    "    return d, time_taken\n",
    "\n",
    "# Example public key [n, e]\n",
    "public_key = [222404123, 479]\n",
    "\n",
    "# Find the corresponding private key and measure the time taken\n",
    "private_key, time_taken = find_private_key(*public_key)\n",
    "\n",
    "\n",
    "# Print the decrypted message using the RSA function with the generated private key\n",
    "print(\"Decrypted message: \" + RSA(encrypted_message, ALFA, [222404123, private_key]))\n",
    "print(f\"Private key: {private_key}\")\n",
    "print(f\"Time: {time_taken} seconds\")\n",
    "\n",
    "# For robust protection against cryptanalytic tools such as Maxima, it is advisable to use a key size of at least 2048 bits for RSA encryption. For enhanced security, a key size of 4096 bits is recommended."
   ]
  },
  {
   "cell_type": "markdown",
   "metadata": {
    "pycharm": {
     "name": "#%% md\n"
    }
   },
   "source": [
    "### 3 ElGamal cryptosystem\n",
    "To generate a pair of public/private keys for ElGamal, the user chooses a big prime $p$ and a generator $g$, and a (secret) random integer $a$ ($2\\le a \\le p-1)$, and computes $\\beta= g^a \\mod p$.\n",
    "\n",
    "The public key is $[p,g,\\beta]$ and the private key es $[p,g,a]$. So, $a$ is the discrete logarithm\n",
    "of $\\beta$ in base $g$ $\\mod p$, and it is hard to compute from the public key.\n",
    "  \n",
    "####  3.1 Exercise (4pts)\n",
    "(a) (1 pt) Define a function ```GenerateElGamalKeys```:\n",
    "\n",
    "**INPUT:**  a positive integer n (size of key)\n",
    "\n",
    "**OUTPUT:** a list [p,g,$\\beta$], the public key ($p$ is a random prime of $k$ digits, $g$ is a random primitive root of $\\mathbb{Z}_p$, and $\\beta$ is $g^a \\mod p$, where $a$ is a random integer such that $2\\le a\\le p-1$.\n",
    "\n",
    "*After running the function, the global variable ```ElGamalPrivateKey``` must be equal to [p,g,a].*\n",
    "\n",
    "Use it to generate Alice keys, of size 10 digits."
   ]
  },
  {
   "cell_type": "code",
   "execution_count": 49,
   "metadata": {
    "pycharm": {
     "name": "#%%\n"
    }
   },
   "outputs": [
    {
     "name": "stdout",
     "output_type": "stream",
     "text": [
      "Alice's Public Key: [6260661343, 3, 3838476648]\n",
      "Alice's Private Key: [6260661343, 3, 4425701941]\n"
     ]
    }
   ],
   "source": [
    "# Function to generate ElGamal public and private keys\n",
    "def GenerateElGamalKeys(k):\n",
    "    global ElGamalPrivateKey\n",
    "    # Generate a random prime number 'p' with k digits\n",
    "    \n",
    "    # The bounds for the number\n",
    "    lowerBound = 10 ** (k - 1) \n",
    "    upperBound = 10 ** k\n",
    "    \n",
    "    # Generate the number\n",
    "    p = sp.nextprime(random.randrange(lowerBound, upperBound))\n",
    "    \n",
    "    # Find a primitive root 'g' modulo 'p'\n",
    "    g = sp.primitive_root(p)\n",
    "    \n",
    "    # Choose a random private key 'a' in the range [2, p-1]\n",
    "    lowerBound = 2\n",
    "    upperBound = p - 1\n",
    "    \n",
    "    # Calculate a\n",
    "    a = random.randrange(lowerBound, upperBound)\n",
    "\n",
    "    # Calculate the public key 'beta' using the formula beta = g^a mod p\n",
    "    publicKey = pow(g, a, p)\n",
    "\n",
    "    # Store the private key [p, g, a] in a global variable\n",
    "    ElGamalPrivateKey = [p, g, a]\n",
    "\n",
    "    # Return the public key [p, g, beta]\n",
    "    return [p, g, publicKey]\n",
    "\n",
    "# Generate ElGamal public key and store the private key in a global variable\n",
    "size = 10\n",
    "public_key = GenerateElGamalKeys(size)\n",
    "\n",
    "# Print the generated public and private keys\n",
    "print(f\"Alice's Public Key: {public_key}\")\n",
    "print(f\"Alice's Private Key: {ElGamalPrivateKey}\")"
   ]
  },
  {
   "cell_type": "markdown",
   "metadata": {
    "pycharm": {
     "name": "#%% md\n"
    }
   },
   "source": [
    "\t\n",
    "To send a message $m$ ($0\\le m<p$) to a user B with public key $[p, g, \\beta]$:\n",
    "- Choose a (secret) random integer $b$\n",
    "- Compute $r=g^b \\mod p$\n",
    "- Compute $t=m \\cdot \\beta^b \\mod p$ \n",
    "- Transmit $(r,t)$.\n",
    "\n",
    "To decrypt the message, B (whose private key is $[n,g,a]$) does $m= t \\cdot r^{-a} \\mod p$.\n",
    "\n",
    "*REMARK:* $b$ must be different for each block of each message. The use of a fixed value of $b$ for, say, $m_1$ and $m_2$, would give the same value of $r$. The cryptograms would be $(r,t_1)$,$(r,t_2)$.\n",
    "If an Enemy gets the plaintext of $m_1$, then he/she would also have $m_2$, because $t_1/m_1=t_2/m_2$.\n",
    "\n",
    "(b) (2 pts) Write a function ```ElGamal```:\n",
    "\n",
    "**INPUT:**  a string m OR a list of pairs of integers (the plaintext OR the cryptogram);\n",
    "a string A (the alphabet); a list of three integers (the public OR the private key)\n",
    "\n",
    "**OUTPUT:** If m is a string, the output is the ElGamal encription of m on the alphabet A             using the key [n,g,$\\beta$] (the message is divided in blocks of length ```l = int(sp.log((r-1)*n+1)/sp.log(r)-1)```), where r is the length of the alphabet, gets the numerical value of each block, and encrypts it. The encryptions, in a list, are the output).\n",
    "\n",
    "If m is a list of naturals, the output is the string resulting of the decryption of the cryptogram on the alphabet A using the key [n,g,a]."
   ]
  },
  {
   "cell_type": "code",
   "execution_count": 50,
   "metadata": {
    "pycharm": {
     "is_executing": true,
     "name": "#%%\n"
    }
   },
   "outputs": [
    {
     "name": "stdout",
     "output_type": "stream",
     "text": [
      "Message:  HOLA\n",
      "Encrypted Message:  [[415132833, 1085744323]]\n",
      "Decrypted Message:  HOLA\n"
     ]
    }
   ],
   "source": [
    "# Function for ElGamal encryption and decryption\n",
    "def ElGamal(m, A, key):\n",
    "    # Length of the alphabet\n",
    "    r = len(A)\n",
    "\n",
    "    # Encryption if m is a string\n",
    "    if isinstance(m, str):\n",
    "        n, g, beta = key\n",
    "        l = math.floor(math.log((r - 1) * n + 1, r) - 1)  # Block size\n",
    "\n",
    "        # Check characters in the message\n",
    "        if any(char not in A for char in m):\n",
    "            raise ValueError(\"Wrong char in message\")\n",
    "\n",
    "        # Convert the message to numerical blocks\n",
    "        numerical_blocks = [NumberEquivalent(m[i:i + l], A) for i in range(0, len(m), l)]\n",
    "\n",
    "        # Encrypt each numerical block\n",
    "        ciphertext = []\n",
    "        for block in numerical_blocks:\n",
    "            b = random.randint(2, n - 2)\n",
    "            r = pow(g, b, n)\n",
    "            t = (block * pow(beta, b, n)) % n\n",
    "            ciphertext.append([r, t])\n",
    "\n",
    "        return ciphertext\n",
    "\n",
    "    # Decryption if m is a list of integers\n",
    "    elif isinstance(m, list) and all(isinstance(pair, list) and len(pair) == 2 for pair in m):\n",
    "        n, g, a = key\n",
    "        decrypted_blocks = []\n",
    "\n",
    "        for pair in m:\n",
    "            r, t = pair\n",
    "\n",
    "            if not (isinstance(r, int) and isinstance(t, int)):\n",
    "                raise TypeError(\"Blocks are corrupted\")\n",
    "\n",
    "            s = pow(r, a, n)\n",
    "            s_inv = pow(s, -1, n)\n",
    "            decrypted_block = (t * s_inv) % n\n",
    "            decrypted_blocks.append(decrypted_block)\n",
    "\n",
    "        decrypted_message = \"\".join(TextEquivalent(block, A) for block in decrypted_blocks)\n",
    "        return decrypted_message\n",
    "\n",
    "    else:\n",
    "        raise ValueError(\"Wrong input...\")\n",
    "    \n",
    "# Example usage\n",
    "# Define the message 'm'\n",
    "message = \"BUENAS NOCHES PROFE\"\n",
    "print(\"Message: \", message)\n",
    "\n",
    "# Generate ElGamal public key and retrieve the private key\n",
    "public_key = GenerateElGamalKeys(10)\n",
    "private_key = ElGamalPrivateKey\n",
    "\n",
    "# Encrypt the message using ElGamal with the generated public key and alphabet 'ALFA'\n",
    "encrypted_message = ElGamal(message, ALFA, public_key)\n",
    "print(\"Encrypted Message: \", encrypted_message)\n",
    "\n",
    "# Decrypt the encrypted message using ElGamal and the private key\n",
    "decrypted_message = ElGamal(encrypted_message, ALFA, private_key)\n",
    "print(\"Decrypted Message: \", decrypted_message)"
   ]
  },
  {
   "cell_type": "markdown",
   "metadata": {
    "pycharm": {
     "name": "#%% md\n"
    }
   },
   "source": [
    "(c) (2 pts) Decrypt the following cryptogram, received by a user with public key [50707, 3, 20546],\n",
    "\twith the alphabet ALFA2=\" ABCDEFGHIJKLMNÑOPQRSTUVWXYZ,.;:\" \n",
    "    \n",
    "\t(The plaintext is a cite from the Diccionario Filosófico, by F. Savater)\t"
   ]
  },
  {
   "cell_type": "code",
   "execution_count": 51,
   "metadata": {
    "pycharm": {
     "name": "#%%\n"
    }
   },
   "outputs": [
    {
     "data": {
      "text/plain": [
       "269"
      ]
     },
     "execution_count": 51,
     "metadata": {},
     "output_type": "execute_result"
    }
   ],
   "source": [
    "ALFA2=\" ABCDEFGHIJKLMNÑOPQRSTUVWXYZ,.;:\" \n",
    "cryptogram=[[41749, 32388], [36791, 19828], [45776, 32978], [15223, 31030],[22602, 16456], [43960, 49512], [15431, 39994], [18335, 15467], \n",
    "  [35728, 18942], [24173, 23040], [50026, 47396], [46109, 47136],[42094, 596], [36082, 2297], [28445, 28761], [38987, 6869], \n",
    "  [2346, 22153], [448, 48244], [3902, 39939], [19263, 8169],[16317, 26356], [43486, 21203], [45467, 23581], [43061, 14317], \n",
    "  [21000, 2678], [43301, 16569], [965, 41145], [34068, 16157],[21610, 606], [48214, 34768], [42091, 28687], [3107, 33107], \n",
    "  [11306, 46425], [41831, 31840], [29514, 40852], [11330, 35006],[9196, 14169], [16205, 35270], [49938, 7374], [14905, 33802], \n",
    "  [3426, 2403], [30329, 27771], [20503, 20741], [1762, 14362],[5476, 41000], [31942, 43965], [28215, 21648], [37604, 26282], \n",
    "  [25221, 47356], [11866, 14540], [29417, 34879], [23346, 14085],[469, 48803], [11742, 29350], [1703, 13846], [46715, 26597], \n",
    "  [16836, 18003], [37115, 40072], [38685, 5592], [47746, 2881],[40055, 43352], [35459, 34393], [38742, 47536], [25208, 19396], \n",
    "  [12502, 23595], [48785, 40472], [38027, 7349], [22562, 32186],[14110, 21511], [22203, 17718], [29352, 520], [36627, 35648], \n",
    "  [19873, 44441], [25477, 773], [12266, 31034], [28462, 31177],[29890, 36847], [15888, 48876], [5641, 4554], [48429, 32418], \n",
    "  [407, 30842], [43254, 25844], [34446, 37898], [28732, 933],[30431, 1148], [25150, 39800], [34057, 18937], [44968, 37939], \n",
    "  [9931, 46273], [21119, 35129], [10278, 32635], [18645, 1680],[15287, 3665], [47589, 23592], [8023, 26387], [29218, 26865], \n",
    "  [5336, 43857], [17307, 40727], [13523, 50329], [8532, 4680],[37637, 49075], [22012, 18934], [45192, 39824], [17919, 31147], \n",
    "  [48304, 43235], [8462, 48690], [8819, 17372], [9087, 4082],[44937, 6858], [27874, 9151], [4069, 45131], [48680, 776], \n",
    "  [45804, 22308], [11439, 12906], [48395, 7349], [2634, 1375],[46272, 45515], [10907, 11098], [16463, 3719], [5639, 20735], \n",
    "  [44223, 22217], [34002, 931], [18459, 1848], [23168, 12741],[40053, 43898], [15086, 31746], [30292, 23409], [10095, 23157], \n",
    "  [43064, 6147], [21365, 30548], [25664, 32252], [12631, 13443],[30384, 38405], [20117, 43159], [31244, 21528], [19843, 30977],[19582, 41518], [9690, 3548], [33669, 18742], [7022, 36942],[7721, 33179], [8950, 18928], [2457, 31131], [33704, 46534], \n",
    "  [14898, 14474], [15337, 21403], [28736, 3197], [12414, 13027],[44450, 16046], [38650, 33836], [1574, 9660], [44250, 41302],[50150, 37561], [40878, 6826], [1692, 39055], [40090, 23501], \n",
    "  [49230, 33453], [42833, 24904], [13234, 41351], [26262, 7715],[39320, 24127], [26036, 21319], [46294, 47512], [37481, 47820],\n",
    "  [21500, 29838], [8375, 41325], [19475, 33675], [20811, 13390],[17806, 39670], [49177, 863], [42615, 11141], [37421, 39871], \n",
    "  [46988, 23651], [15389, 2771], [6367, 31630], [46822, 43185],[27212, 8007], [3837, 38892], [12462, 85], [12958, 27], \n",
    "  [2736, 1178], [9427, 6506], [11070, 17074], [29299, 800],[18048, 17002], [24589, 49925], [9985, 6503], [38918, 32893], \n",
    "  [49599, 10585], [23690, 3983], [44282, 18843], [23246, 27752],[1854, 28762], [4815, 31991], [2896, 35533], [31776, 41314], \n",
    "  [4165, 6099], [3965, 18193], [18515, 49989], [31938, 27655],[42292, 1886], [44883, 18493], [23948, 7026], [29749, 948], \n",
    "  [37931, 24286], [6118, 24690], [1464, 11531], [12216, 19963],[4205, 28328], [42977, 48703], [35822, 46982], [13739, 22064], \n",
    "  [29099, 49268], [4933, 10564], [39931, 9504], [12406, 14241],[22157, 6650], [43024, 30307], [39654, 737], [26450, 41399], \n",
    "  [18370, 48608], [32222, 34257], [12546, 43546], [32258, 2171],[42620, 2868], [25474, 14780], [27242, 4634], [5934, 13973], \n",
    "  [17774, 46741], [36116, 18833], [50194, 31908], [22575, 15297],[720, 49787], [24045, 4214], [16944, 41620], [45842, 24285], \n",
    "  [23362, 22652], [30105, 27695], [1868, 14623], [46542, 5807], [13140, 48952], [47156, 39080], [47336, 45131], [18417, 10418], \n",
    "  [38598, 48405], [13935, 46625], [9112, 9791], [32447, 12922],[35826, 44903], [18872, 25864], [30800, 27078], [20058, 18314], \n",
    "  [35610, 42893], [160, 16832], [5805, 22970], [46876, 28007],[31813, 36510], [22138, 37263], [6235, 42006], [37709, 18086], \n",
    "  [42844, 33286], [37608, 26270], [34327, 4293], [31874, 22439],[42364, 40066], [47511, 19178], [20113, 7455], [38958, 45295],\n",
    "  [10081, 6996]]\n",
    "len(cryptogram)"
   ]
  },
  {
   "cell_type": "code",
   "execution_count": 52,
   "metadata": {
    "pycharm": {
     "name": "#%%\n"
    }
   },
   "outputs": [
    {
     "name": "stdout",
     "output_type": "stream",
     "text": [
      "8057\n",
      "Decrypted Message: PARTAMOS DE LA BASE DE QUE TODA ACCION HUMANA TIENE COMO OBJETIVO CONSEGUIR ALGO VENTAJOSO PARA EL AGENTE QUE LA REALIZA. SEGUN CIPOLLA, PUEDEN ESTABLECERSE CUATRO CATEGORIAS MORALES: PRIMERO ESTAN LOS BUENOS, CUYAS ACCIONES LOGRAN VENTAJAS PARA SI MISMOS Y PARA LOS DEMAS; DESPUES VIENEN LOS INCAUTOS, QUE PRETENDEN OBTENER VENTAJAS PARA SI MISMOS PERO EN REALIDAD LO QUE HACEN ES PROPORCIONARSELAS A OTROS; MAS ABAJO QUEDAN LOS MALOS, QUE OBTIENEN BENEFICIOS A COSTA DEL DAÑO DE OTROS; Y POR ULTIMO ESTAN LOS ESTUPIDOS QUE, PRETENDAN SER BUENOS O MALOS, LO UNICO QUE CONSIGUEN A FIN DE CUENTAS ES PERJUICIOS TANTO PARA ELLOS COMO PARA LOS DEMAS. HAY MUCHOS MAS ESTUPIDOS QUE BUENOS MALOS O INCAUTOS. ADEMAS EL ESTUPIDO ES PEOR QUE EL MALO YA QUE EL MALO DESCANSA DE VEZ EN CUANDO PERO EL ESTUPIDO JAMAS.\n"
     ]
    }
   ],
   "source": [
    "a = sp.discrete_log(50707, 20546, 3)\n",
    "print(a)\n",
    "\n",
    "decrypted_message = ElGamal(cryptogram, ALFA2, [50707, 3, a])\n",
    "print(f\"Decrypted Message: {decrypted_message}\")"
   ]
  },
  {
   "cell_type": "code",
   "execution_count": null,
   "metadata": {},
   "outputs": [],
   "source": []
  }
 ],
 "metadata": {
  "kernelspec": {
   "display_name": "Python 3 (ipykernel)",
   "language": "python",
   "name": "python3"
  },
  "language_info": {
   "codemirror_mode": {
    "name": "ipython",
    "version": 3
   },
   "file_extension": ".py",
   "mimetype": "text/x-python",
   "name": "python",
   "nbconvert_exporter": "python",
   "pygments_lexer": "ipython3",
   "version": "3.10.9"
  }
 },
 "nbformat": 4,
 "nbformat_minor": 4
}
