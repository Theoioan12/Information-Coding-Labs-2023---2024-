{
 "cells": [
  {
   "cell_type": "markdown",
   "metadata": {},
   "source": [
    "# Information Coding 2023-24\n",
    "\n",
    "## Lab assignment 1 (Lab session 2, 28-09-2023)\n",
    "## Symmetric Cryptography\n",
    "\n",
    "### (Estimated working time: 2 hours lab + 2 hours home);\n",
    "\t\n",
    "### Student names:\n",
    "#### Javier Cirugeda Bugallo\n",
    "\n",
    "## INSTRUCTIONS\n",
    "- Practices are to be done in groups of two (or one). \n",
    "- This solved practice has to be uploaded in Moodle before October 9th, 23:55h. \n",
    "- The submission must be done by the first author (alphabetical order).\n",
    "- **Name the file with authors' names.**\n",
    "\n",
    "This practice accounts for 6% of final grade for both autors.\n",
    "\n",
    "### Grading items:\n",
    "- Defined functions 50% (eficiency, clarity, code documentation)\n",
    "- Exercise solving 40%\n",
    "- Mathematical correction, clarity of results, language precission, 10%.\n",
    "- **To get any credit, physical presence in the practice session is a must.**\n",
    "\n",
    "Unless otherwise stated, we shall use the following alphabet (Castilian with blank space)"
   ]
  },
  {
   "cell_type": "code",
   "execution_count": 2,
   "metadata": {},
   "outputs": [
    {
     "data": {
      "text/plain": [
       "28"
      ]
     },
     "execution_count": 2,
     "metadata": {},
     "output_type": "execute_result"
    }
   ],
   "source": [
    "ALFA = \" ABCDEFGHIJKLMNÑOPQRSTUVWXYZ\"\n",
    "len(ALFA)"
   ]
  },
  {
   "cell_type": "markdown",
   "metadata": {},
   "source": [
    "##  1 (1 pt) Complete the introduction on Affine Matricial Cryptosystem\n",
    "\n",
    "in the affine matricial cryptosystem, the key is a pair $K=[M, b]$, where $M$ is a square $n \\times n$ matrix and $b$ is a row vector (a $1 \\times n$ matrix), both with coefficients In $Z_q$ ($q$ is the size of the alphabet)\n",
    "\t\n",
    "The plaintext must be divided in blocks of size $n$.\n",
    "\n",
    "With each block, a row vector $x$ of size $n$ is built, using the numerical equivalent of each symbol in the block.\n",
    "\n",
    "The vector is encryted using the function $c_k(x):=mod((x \\cdot M+b),q)$\n",
    "\t\n",
    "The ciphertext is the concatenation of all the encrypted vectors, after translating them back to symbols.\n",
    "\n",
    "The conditions that $M$ and $b$ must verify so that $c_k$ is a valid encryption function are just That $M$ is invertible modulo $q$, that is, $gcd(det(M),q)=1$\n",
    "\n",
    "the decryption function is $d_k(y)=mod(y.M^{-1}-b\\cdot M^{-1},q)$\n",
    "\t\n",
    "Affine matrix cryptosystem is interesting for us because it is a general formulation of what we have seen:\n",
    "- If the independent term is the zero vector we have the matricial cryptosystem\n",
    "- If the order $n$ of $M$ and $b$ is $n=1$, we have the affine cryptosystem. If $M=[1]$, we have Caesar's.\n",
    "\n",
    "Find information on the Vigenére cipher. Reason that it is just an affine matricial cryptosystem. Who are $M$ and $b$ in this case?\n"
   ]
  },
  {
   "cell_type": "markdown",
   "metadata": {},
   "source": [
    "##  2 (2 pt) Message to Vectors and Vectors to Message\n",
    "\n",
    "To use an affine matrix cryptosystem of order $n$, we must begin by converting the message into a list of vectors of size n (whose entries are the numerical equivalents of the corresponding symbols). After encrypting, the resulting vectors must be transformed back into a string.\n",
    "\n"
   ]
  },
  {
   "cell_type": "markdown",
   "metadata": {},
   "source": [
    "##   2.1 StringToVectors\n",
    "\n",
    "Write a function StringToVectors\n",
    "\n",
    "Input:\n",
    "- An integer, n (size of blocks)\n",
    "- A string, A (the alphabet)\n",
    "- A string, m (the message)\n",
    "\n",
    "Output:\n",
    "- A list of row vectors of size n, containing the numerical equivalents of the symbols in the message.\n",
    "\t\n",
    "*Hint: Remember that the numerical equivalent of a symbol is its position in the alphabet, minus 1.*\n",
    "\n",
    "**Important:**\n",
    "- The procedure must control the correction of entry data (no repeated symbols in the alphabet, no symbols in the message except for the ones in the alphabet...).\n",
    "- Afterwards, the numerical equivalent to each symbol in the message must be obtained. The result is a list of integers. If the size of this list is not a multiple of n, fill with zeros.\n",
    "- Finally, we put those integers in vectors, in groups of n, and put the vectors into a list, which shall be the output."
   ]
  },
  {
   "cell_type": "code",
   "execution_count": 3,
   "metadata": {},
   "outputs": [
    {
     "name": "stdout",
     "output_type": "stream",
     "text": [
      "Matrix([[2, 5, 3]])\n"
     ]
    }
   ],
   "source": [
    "# To create vectors\n",
    "\n",
    "import sympy as sp\n",
    "\n",
    "v=sp.Matrix(1,3,[2,5,3])\n",
    "print(v)"
   ]
  },
  {
   "cell_type": "code",
   "execution_count": 4,
   "metadata": {},
   "outputs": [],
   "source": [
    "'''def StringToVectors(n, A, m):\n",
    "    output = []\n",
    "    for char in m:\n",
    "        output.append(A.find(char))\n",
    "    return output\n",
    "StringToVectors(1, ALFA, \"Hola\")'''\n",
    "import sympy\n",
    "\n",
    "def StringToVectors(n, A, m):\n",
    "    # Step 1: Check input data validity\n",
    "    if len(set(A)) != len(A):\n",
    "        raise ValueError(\"Alphabet contains repeated symbols\")\n",
    "    if any(symbol not in A for symbol in m):\n",
    "        raise ValueError(\"Message contains symbols not in the alphabet\")\n",
    "\n",
    "    # Step 2: Calculate the numerical equivalent of each symbol\n",
    "    numerical_equivalents = [A.index(symbol) for symbol in m]\n",
    "\n",
    "    # Step 3: Fill with zeros to make the list a multiple of n\n",
    "    remainder = len(numerical_equivalents) % n\n",
    "    if remainder != 0:\n",
    "        numerical_equivalents.extend([0] * (n - remainder))\n",
    "\n",
    "    # Step 4: Organize into row vectors of size n\n",
    "    vectors = [numerical_equivalents[i:i + n] for i in range(0, len(numerical_equivalents), n)]\n",
    "\n",
    "    return vectors\n"
   ]
  },
  {
   "cell_type": "markdown",
   "metadata": {},
   "source": [
    "## 2.2 VectorsToString\n",
    "\n",
    "Write a function VectorsToString, that performs the inverse procedure to StringToVectors \n",
    "\n",
    "Input:\n",
    "- An integer, n (size of blocks)\n",
    "- A string, A (the alphabet)\n",
    "- A list, lvec, of row vectors of size n, containing integers (in the range 0..len(A)-1) \n",
    "\n",
    "Output:\n",
    "- A string, m (the symbols corresponding to the numbers in the list)"
   ]
  },
  {
   "cell_type": "code",
   "execution_count": 5,
   "metadata": {},
   "outputs": [],
   "source": [
    "def VectorsToString(n, A, lvec):\n",
    "    # Step 1: Check the validity of the input data\n",
    "    if len(set(A)) != len(A):\n",
    "        raise ValueError(\"Alphabet contains repeated symbols\")\n",
    "\n",
    "    # Step 2: Convert row vectors back to a list of integers\n",
    "    numerical_equivalents = [elem for vector in lvec for elem in vector]\n",
    "\n",
    "    # Step 3: Convert numerical equivalents to symbols\n",
    "    message = ''.join([A[num] for num in numerical_equivalents])\n",
    "\n",
    "    return message"
   ]
  },
  {
   "cell_type": "markdown",
   "metadata": {},
   "source": [
    "## 2.3 Testing\n",
    "\n",
    "Test the procedures above with different situations (wrong entry data, different alphabets, using lists instead of vector (matrices),...)."
   ]
  },
  {
   "cell_type": "code",
   "execution_count": 6,
   "metadata": {},
   "outputs": [
    {
     "name": "stdout",
     "output_type": "stream",
     "text": [
      "[[7, 4, 11], [11, 14, 0]]\n",
      "HELLOA\n"
     ]
    }
   ],
   "source": [
    "n = 3\n",
    "alphabet = \"ABCDEFGHIJKLMNOPQRSTUVWXYZ\"\n",
    "message = \"HELLO\"\n",
    "result = StringToVectors(n, alphabet, message)\n",
    "print(result)\n",
    "msg = VectorsToString(n, alphabet, result)\n",
    "print(msg)"
   ]
  },
  {
   "cell_type": "markdown",
   "metadata": {},
   "source": [
    "## 3 (3 pt) Affine Matrix Cryptosystem\n",
    "\n",
    "##   3.1 AMC\n",
    "\n",
    "Write a function AMC implementing the affine matrix cryptosystem:\n",
    "Input:\n",
    "- A string m (the plaintext)\n",
    "- A string, A (the alphabet)\n",
    "- A square matrix M\n",
    "- A row vector b \n",
    "\n",
    "Output:\n",
    "- A string, c (the cryptogram obtained from m using the key [M,b])\n",
    "\n",
    "*Notes:*\n",
    "- The procedure must check the sizes of matrix and vector and the validity of the key.\n",
    "- The same procedure can be used to decrypt, by using the appropiate inverse key."
   ]
  },
  {
   "cell_type": "code",
   "execution_count": 19,
   "metadata": {},
   "outputs": [
    {
     "name": "stdout",
     "output_type": "stream",
     "text": [
      "> Original text: HELLO\n",
      "Ciphertext: OXJOSS\n",
      "> Recovered text: HELLO \n"
     ]
    }
   ],
   "source": [
    "# To multiply matrices and vectors\n",
    "#M=sp.Matrix(2,2,[1,2,3,4]) # or M=sp.Matrix([[1,2],[3,4]])\n",
    "#v=sp.Matrix(1,2,[3,1])\n",
    "#print(v*M)\n",
    "\n",
    "def is_square_matrix(matrix):\n",
    "    return matrix.shape[0] == matrix.shape[1]\n",
    "\n",
    "def validate_key(alphabet, M, b):\n",
    "    if not is_square_matrix(M):\n",
    "        raise ValueError(\"Matrix M must be square.\")\n",
    "    if not M.shape[0] == len(b):\n",
    "        raise ValueError(\"Invalid vector lenght.\")\n",
    "    if sp.det(M) % len(alphabet) == 0:\n",
    "        raise ValueError(\"Invalid matrix.\")\n",
    "\n",
    "\n",
    "def AMC_encrypt(m, A, M, b):\n",
    "    validate_key(A, M, b)\n",
    "    numerical_equivalents = [A.index(char) for char in m]\n",
    "    encrypted_numericals = (b * M) % len(A)\n",
    "    return encrypted_numericals\n",
    "    \n",
    "    \n",
    "M = sp.Matrix(3, 3, [3, 2, 3, 4, 5, 6, 7, 8, 8])\n",
    "\n",
    "\n",
    "plaintext = \"HELLO\"\n",
    "ciphertext = \"\"\n",
    "n = 3\n",
    "result = []\n",
    "print(\"> Original text: \" + plaintext)\n",
    "# CYPHER\n",
    "for vector in StringToVectors(n, ALFA, plaintext):\n",
    "    result.append(list(AMC_encrypt(plaintext, ALFA, M, sp.Matrix(1, n, vector))))\n",
    "'''\n",
    "print(\"--------------------------------------------------------------------\")\n",
    "print(AMC_encrypt(plaintext, ALFA, M, sp.Matrix(1, n, vector)))\n",
    "print(list(AMC_encrypt(plaintext, ALFA, M, sp.Matrix(1, n, vector))))\n",
    "print(result)\n",
    "print(\"--------------------------------------------------------------------\")\n",
    "'''\n",
    "ciphertext = VectorsToString(n, ALFA, result)\n",
    "print(\"Ciphertext:\", ciphertext)\n",
    "\n",
    "# DECYPHER\n",
    "invM = M.inv_mod(len(ALFA))\n",
    "orgText = []\n",
    "for vector in StringToVectors(n, ALFA, ciphertext):\n",
    "    orgText.append(list(AMC_encrypt(ciphertext, ALFA, invM, sp.Matrix(1, n, vector))))\n",
    "recoveredtext = VectorsToString(n, ALFA, orgText)\n",
    "print(\"> Recovered text: \" + recoveredtext)"
   ]
  },
  {
   "cell_type": "code",
   "execution_count": 48,
   "metadata": {},
   "outputs": [
    {
     "name": "stdout",
     "output_type": "stream",
     "text": [
      "[1, 2, 3, 4]\n"
     ]
    }
   ],
   "source": [
    "M=sp.Matrix(1,4,[1,2,3,4])\n",
    "print(list(M))"
   ]
  },
  {
   "cell_type": "code",
   "execution_count": null,
   "metadata": {},
   "outputs": [],
   "source": []
  },
  {
   "cell_type": "code",
   "execution_count": null,
   "metadata": {},
   "outputs": [],
   "source": [
    "##  3.2 Examples\n",
    "\n",
    "Use AMC to encrypt and decrypt, when possible,\n",
    "the following messages, with the given alphabet and keys:"
   ]
  },
  {
   "cell_type": "code",
   "execution_count": 14,
   "metadata": {},
   "outputs": [],
   "source": [
    "m=\"patata\"\n",
    "Alf=\"patata\"\n",
    "M=sp.Matrix([[4,0],[0,1]])\n",
    "b=sp.Matrix([[0,2]])"
   ]
  },
  {
   "cell_type": "code",
   "execution_count": 16,
   "metadata": {},
   "outputs": [],
   "source": [
    "m=\"PROBANDO  AMC\"\n",
    "# alphabet ALFA \n",
    "M1=sp.Matrix([[5,0],[0,1]])\n",
    "b1=sp.Matrix([[0, 2]])\n",
    "              \n",
    "M2=sp.Matrix([[3,0],[0,1]])\n",
    "b2=sp.Matrix([[0, 2, 2]])\n",
    "\n",
    "M3=sp.Matrix([[3,0],[1,1]])\n",
    "b3=sp.Matrix([[0,2]])"
   ]
  },
  {
   "cell_type": "code",
   "execution_count": 17,
   "metadata": {},
   "outputs": [],
   "source": [
    "m1=\"CIPHER THIS TEXT WITH CAESAR\"  #  alphabet ALFA, Caesar cipher, key:3\n",
    "\n",
    "m2=\"CIPHER THIS TEXT WITH AFFINE\" # alphabet ALFA, affine cipher, key [3,2]\n",
    "\n",
    "m3=\"CIPHER THIS TEXT WITH VIGENERE\" # alphabet ALFA, Vigenére cipher, key \"CLAVE\""
   ]
  },
  {
   "cell_type": "code",
   "execution_count": 59,
   "metadata": {},
   "outputs": [
    {
     "name": "stdout",
     "output_type": "stream",
     "text": [
      "Matrix([[9, 1], [7, 5]])\n",
      "Matrix([[1, 0], [0, 1]])\n"
     ]
    }
   ],
   "source": [
    "# To compute the modular inverse of a matrix\\n\",\n",
    "\n",
    "def matModInv(M,n):\n",
    "    if sp.det(M) == 0:\n",
    "        raise ValueError(\"The matrix doesn't have an inverse\")\n",
    "    output=sp.transpose(M.cofactor_matrix())*pow(sp.det(M),-1,n)\n",
    "    return(output%n)\n",
    "\n",
    "# Note that pow(x,-1,n) to compute modular inverses works only from python 3.8+\n",
    "    \n",
    "# sp.transpose(M.cofactor_matrix()) can also be computed by M.adjugate()\\n\",\n",
    "\n",
    "M=sp.Matrix([[1,2],[3,4]])\n",
    "N=matModInv(M,11)\n",
    "\n",
    "print(N)\n",
    "print(M*N%11)"
   ]
  },
  {
   "cell_type": "markdown",
   "metadata": {
    "scrolled": true
   },
   "source": [
    "## 4 (4 pt) Cryptanalysis\n",
    "\n",
    "## 4.1 Known plaintext attack\n",
    "\n",
    "Exercise 1.13 from the notes:\n",
    "\n",
    "A linear matrix cryptosystem of size $2\\times 2$ has been used. Alphabet is ALFA. We know that the last five letters of the message were \"CARLA\". Get the plaintext.\n",
    "\n",
    "*Hint: You can use the modular inverse to calculate the modular inverse of $x$ $mod q$, and solve the systems of equations $mod 28$ that shall appear.*\n"
   ]
  },
  {
   "cell_type": "code",
   "execution_count": 24,
   "metadata": {},
   "outputs": [
    {
     "name": "stdout",
     "output_type": "stream",
     "text": [
      "Plaintext: HOY NO NOS PODEMOS VER CARLA\n"
     ]
    }
   ],
   "source": [
    "ciphertext = \"WSDYLYNNDWKKSLRSDWEEMNXXTJCK\"\n",
    "\n",
    "M = sp.Matrix(2, 2, [23, 23, 5, 4]) # Calculations done by hand using a matrix ecuation\n",
    "n = 2\n",
    "result = []\n",
    "for vector in StringToVectors(n, ALFA, ciphertext):\n",
    "    result.append(list(AMC_encrypt(ciphertext, ALFA, M, sp.Matrix(1, n, vector))))\n",
    "#print(result)\n",
    "plaintext = VectorsToString(n, ALFA, result)\n",
    "print(\"Plaintext:\", plaintext)"
   ]
  },
  {
   "cell_type": "markdown",
   "metadata": {},
   "source": [
    "##   4.2 Relative frequency\n",
    "\n",
    "Break the cryptogram cr.\n",
    "\n",
    "The alphabet ALFA and an affine cipher have been used.\n",
    "\n",
    "You shall need to count the relative frequency of each symbol..."
   ]
  },
  {
   "cell_type": "code",
   "execution_count": 41,
   "metadata": {},
   "outputs": [
    {
     "name": "stdout",
     "output_type": "stream",
     "text": [
      "Symbol: U, Relative Frequency: 0.1633\n",
      "Symbol: P, Relative Frequency: 0.1429\n",
      "Symbol: Ñ, Relative Frequency: 0.0918\n",
      "Symbol: N, Relative Frequency: 0.0714\n",
      "Symbol:  , Relative Frequency: 0.0714\n",
      "Symbol: E, Relative Frequency: 0.0612\n",
      "Symbol: I, Relative Frequency: 0.0612\n",
      "Symbol: F, Relative Frequency: 0.0510\n",
      "Symbol: C, Relative Frequency: 0.0510\n",
      "Symbol: Y, Relative Frequency: 0.0408\n",
      "Symbol: T, Relative Frequency: 0.0306\n",
      "Symbol: W, Relative Frequency: 0.0306\n",
      "Symbol: R, Relative Frequency: 0.0204\n",
      "Symbol: M, Relative Frequency: 0.0204\n",
      "Symbol: J, Relative Frequency: 0.0204\n",
      "Symbol: A, Relative Frequency: 0.0204\n",
      "Symbol: V, Relative Frequency: 0.0102\n",
      "Symbol: H, Relative Frequency: 0.0102\n",
      "Symbol: Q, Relative Frequency: 0.0102\n",
      "Symbol: D, Relative Frequency: 0.0102\n",
      "Symbol: Z, Relative Frequency: 0.0102\n"
     ]
    },
    {
     "data": {
      "text/plain": [
       "'\\nresult = []\\nfor vector in StringToVectors(len(cr), ALFA, cr):\\n    result.append(vector)\\n    \\nresult2 = []\\nresult3 = []\\nfor symbol in result[0]:\\n    result2.append((5 * symbol - 5 * 21) % len(ALFA))\\nresult3.append(result2)\\nplaintext = VectorsToString(len(cr), ALFA, result3)\\nprint(\"Plaintext:\", plaintext)\\n'"
      ]
     },
     "execution_count": 41,
     "metadata": {},
     "output_type": "execute_result"
    }
   ],
   "source": [
    "cr = \"TUPRUYMEUPYUVÑFCUPNCFWYUPÑEUIUPIÑ UCJNPTUPENWÑCIUPWÑN  UPYÑCIFUTPRÑNPIFENHUIUPQM PU JAÑ PEDAN ZFÑE\"\n",
    "\n",
    "import collections\n",
    "\n",
    "# Count the frequency of each symbol in the ciphertext\n",
    "symbol_counts = collections.Counter(cr)\n",
    "\n",
    "# Calculate the total number of symbols in the ciphertext\n",
    "total_symbols = len(cr)\n",
    "\n",
    "# Calculate the relative frequency of each symbol\n",
    "relative_frequencies = {symbol: count / total_symbols for symbol, count in symbol_counts.items()}\n",
    "\n",
    "# Sort the symbols by frequency (highest to lowest)\n",
    "sorted_symbols = sorted(relative_frequencies.items(), key=lambda x: x[1], reverse=True)\n",
    "\n",
    "# Print the symbols ordered by frequency\n",
    "for symbol, frequency in sorted_symbols:\n",
    "    print(f\"Symbol: {symbol}, Relative Frequency: {frequency:.4f}\")\n",
    "    \n",
    "'''\n",
    "result = []\n",
    "for vector in StringToVectors(len(cr), ALFA, cr):\n",
    "    result.append(vector)\n",
    "    \n",
    "result2 = []\n",
    "result3 = []\n",
    "for symbol in result[0]:\n",
    "    result2.append((5 * symbol - 5 * 21) % len(ALFA))\n",
    "result3.append(result2)\n",
    "plaintext = VectorsToString(len(cr), ALFA, result3)\n",
    "print(\"Plaintext:\", plaintext)\n",
    "'''"
   ]
  },
  {
   "cell_type": "markdown",
   "metadata": {},
   "source": [
    "## 4.3 Bonus track\n",
    "\n",
    "- Solve exercise 1.9 d) from the notes.\n",
    "\n",
    "- What extra functions would you need to implement in order to solve exercise 1.11? Can you solve it?\n"
   ]
  },
  {
   "cell_type": "code",
   "execution_count": null,
   "metadata": {},
   "outputs": [],
   "source": []
  }
 ],
 "metadata": {
  "kernelspec": {
   "display_name": "Python 3 (ipykernel)",
   "language": "python",
   "name": "python3"
  },
  "language_info": {
   "codemirror_mode": {
    "name": "ipython",
    "version": 3
   },
   "file_extension": ".py",
   "mimetype": "text/x-python",
   "name": "python",
   "nbconvert_exporter": "python",
   "pygments_lexer": "ipython3",
   "version": "3.10.9"
  }
 },
 "nbformat": 4,
 "nbformat_minor": 4
}
